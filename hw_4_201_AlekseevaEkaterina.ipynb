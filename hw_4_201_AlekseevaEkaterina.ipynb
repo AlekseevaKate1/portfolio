{
 "cells": [
  {
   "cell_type": "markdown",
   "id": "5a352a62",
   "metadata": {},
   "source": [
    "# Алексеева Екатерина Игоревна, БЭК215 (учебная группа - 3), dap_econ_2022_201, ник: eialekseeva_2@edu.hse.ru (id: dap_econ_2022_201)."
   ]
  },
  {
   "cell_type": "code",
   "execution_count": 360,
   "id": "86a61374",
   "metadata": {},
   "outputs": [],
   "source": [
    "import pandas as pd \n",
    "import numpy as np\n",
    "import scipy.stats as sts\n",
    "\n",
    "import matplotlib.pyplot as plt\n",
    "import seaborn as sns\n",
    "\n",
    "from collections import defaultdict\n",
    "\n",
    "# Отключение некоторых лишних предупреждений\n",
    "import warnings\n",
    "warnings.filterwarnings(\"ignore\")\n",
    "\n",
    "sns.set_theme(style=\"whitegrid\", palette=\"muted\")\n",
    "plt.rcParams['figure.figsize'] = (8, 4)"
   ]
  },
  {
   "cell_type": "markdown",
   "id": "675b9027",
   "metadata": {},
   "source": [
    "# Задача 1. Экзамен"
   ]
  },
  {
   "cell_type": "code",
   "execution_count": 361,
   "id": "ac9a82dc",
   "metadata": {},
   "outputs": [],
   "source": [
    "df = pd.read_csv('data/students_exam.csv')"
   ]
  },
  {
   "cell_type": "code",
   "execution_count": 362,
   "id": "ee158e5c",
   "metadata": {
    "scrolled": true
   },
   "outputs": [
    {
     "data": {
      "text/html": [
       "<div>\n",
       "<style scoped>\n",
       "    .dataframe tbody tr th:only-of-type {\n",
       "        vertical-align: middle;\n",
       "    }\n",
       "\n",
       "    .dataframe tbody tr th {\n",
       "        vertical-align: top;\n",
       "    }\n",
       "\n",
       "    .dataframe thead th {\n",
       "        text-align: right;\n",
       "    }\n",
       "</style>\n",
       "<table border=\"1\" class=\"dataframe\">\n",
       "  <thead>\n",
       "    <tr style=\"text-align: right;\">\n",
       "      <th></th>\n",
       "      <th>gender</th>\n",
       "      <th>race/ethnicity</th>\n",
       "      <th>parental level of education</th>\n",
       "      <th>lunch</th>\n",
       "      <th>test preparation course</th>\n",
       "      <th>math score</th>\n",
       "      <th>reading score</th>\n",
       "      <th>writing score</th>\n",
       "    </tr>\n",
       "  </thead>\n",
       "  <tbody>\n",
       "    <tr>\n",
       "      <th>0</th>\n",
       "      <td>female</td>\n",
       "      <td>group B</td>\n",
       "      <td>bachelor's degree</td>\n",
       "      <td>standard</td>\n",
       "      <td>none</td>\n",
       "      <td>72</td>\n",
       "      <td>72</td>\n",
       "      <td>74</td>\n",
       "    </tr>\n",
       "    <tr>\n",
       "      <th>1</th>\n",
       "      <td>female</td>\n",
       "      <td>group C</td>\n",
       "      <td>some college</td>\n",
       "      <td>standard</td>\n",
       "      <td>completed</td>\n",
       "      <td>69</td>\n",
       "      <td>90</td>\n",
       "      <td>88</td>\n",
       "    </tr>\n",
       "    <tr>\n",
       "      <th>2</th>\n",
       "      <td>female</td>\n",
       "      <td>group B</td>\n",
       "      <td>master's degree</td>\n",
       "      <td>standard</td>\n",
       "      <td>none</td>\n",
       "      <td>90</td>\n",
       "      <td>95</td>\n",
       "      <td>93</td>\n",
       "    </tr>\n",
       "    <tr>\n",
       "      <th>3</th>\n",
       "      <td>male</td>\n",
       "      <td>group A</td>\n",
       "      <td>associate's degree</td>\n",
       "      <td>free/reduced</td>\n",
       "      <td>none</td>\n",
       "      <td>47</td>\n",
       "      <td>57</td>\n",
       "      <td>44</td>\n",
       "    </tr>\n",
       "    <tr>\n",
       "      <th>4</th>\n",
       "      <td>male</td>\n",
       "      <td>group C</td>\n",
       "      <td>some college</td>\n",
       "      <td>standard</td>\n",
       "      <td>none</td>\n",
       "      <td>76</td>\n",
       "      <td>78</td>\n",
       "      <td>75</td>\n",
       "    </tr>\n",
       "    <tr>\n",
       "      <th>...</th>\n",
       "      <td>...</td>\n",
       "      <td>...</td>\n",
       "      <td>...</td>\n",
       "      <td>...</td>\n",
       "      <td>...</td>\n",
       "      <td>...</td>\n",
       "      <td>...</td>\n",
       "      <td>...</td>\n",
       "    </tr>\n",
       "    <tr>\n",
       "      <th>995</th>\n",
       "      <td>female</td>\n",
       "      <td>group E</td>\n",
       "      <td>master's degree</td>\n",
       "      <td>standard</td>\n",
       "      <td>completed</td>\n",
       "      <td>88</td>\n",
       "      <td>99</td>\n",
       "      <td>95</td>\n",
       "    </tr>\n",
       "    <tr>\n",
       "      <th>996</th>\n",
       "      <td>male</td>\n",
       "      <td>group C</td>\n",
       "      <td>high school</td>\n",
       "      <td>free/reduced</td>\n",
       "      <td>none</td>\n",
       "      <td>62</td>\n",
       "      <td>55</td>\n",
       "      <td>55</td>\n",
       "    </tr>\n",
       "    <tr>\n",
       "      <th>997</th>\n",
       "      <td>female</td>\n",
       "      <td>group C</td>\n",
       "      <td>high school</td>\n",
       "      <td>free/reduced</td>\n",
       "      <td>completed</td>\n",
       "      <td>59</td>\n",
       "      <td>71</td>\n",
       "      <td>65</td>\n",
       "    </tr>\n",
       "    <tr>\n",
       "      <th>998</th>\n",
       "      <td>female</td>\n",
       "      <td>group D</td>\n",
       "      <td>some college</td>\n",
       "      <td>standard</td>\n",
       "      <td>completed</td>\n",
       "      <td>68</td>\n",
       "      <td>78</td>\n",
       "      <td>77</td>\n",
       "    </tr>\n",
       "    <tr>\n",
       "      <th>999</th>\n",
       "      <td>female</td>\n",
       "      <td>group D</td>\n",
       "      <td>some college</td>\n",
       "      <td>free/reduced</td>\n",
       "      <td>none</td>\n",
       "      <td>77</td>\n",
       "      <td>86</td>\n",
       "      <td>86</td>\n",
       "    </tr>\n",
       "  </tbody>\n",
       "</table>\n",
       "<p>1000 rows × 8 columns</p>\n",
       "</div>"
      ],
      "text/plain": [
       "     gender race/ethnicity parental level of education         lunch  \\\n",
       "0    female        group B           bachelor's degree      standard   \n",
       "1    female        group C                some college      standard   \n",
       "2    female        group B             master's degree      standard   \n",
       "3      male        group A          associate's degree  free/reduced   \n",
       "4      male        group C                some college      standard   \n",
       "..      ...            ...                         ...           ...   \n",
       "995  female        group E             master's degree      standard   \n",
       "996    male        group C                 high school  free/reduced   \n",
       "997  female        group C                 high school  free/reduced   \n",
       "998  female        group D                some college      standard   \n",
       "999  female        group D                some college  free/reduced   \n",
       "\n",
       "    test preparation course  math score  reading score  writing score  \n",
       "0                      none          72             72             74  \n",
       "1                 completed          69             90             88  \n",
       "2                      none          90             95             93  \n",
       "3                      none          47             57             44  \n",
       "4                      none          76             78             75  \n",
       "..                      ...         ...            ...            ...  \n",
       "995               completed          88             99             95  \n",
       "996                    none          62             55             55  \n",
       "997               completed          59             71             65  \n",
       "998               completed          68             78             77  \n",
       "999                    none          77             86             86  \n",
       "\n",
       "[1000 rows x 8 columns]"
      ]
     },
     "execution_count": 362,
     "metadata": {},
     "output_type": "execute_result"
    }
   ],
   "source": [
    "df"
   ]
  },
  {
   "cell_type": "markdown",
   "id": "517c9461",
   "metadata": {},
   "source": [
    "__а)__ __[5 баллов]__  Проверьте гипотезу о том, что студенты, получившие высшее образование (associate's degree, bachelor's degree, master's degree) в среднем пишут математику на большее число баллов, чем студенты со средним образованием (high school, some high school, some college). \n",
    "\n",
    "Уровень значимости: $5\\%$\n",
    "\n",
    "$$\n",
    "\\begin{aligned}\n",
    "& H_0: \\mu_{high} = \\mu_{middle} \\\\\n",
    "& H_1: \\mu_{high} > \\mu_{middle}\n",
    "\\end{aligned}\n",
    "$$\n",
    "\n",
    "__Подсказка:__ В тесте 2 выборки: студенты с высшим образованием и со средним. Подумайте о том, как эти выборки связаны между собой. Также обратите внимание на альтернативную гипотезу!"
   ]
  },
  {
   "cell_type": "code",
   "execution_count": 363,
   "id": "5c22cd07",
   "metadata": {},
   "outputs": [],
   "source": [
    "a = df[(df['parental level of education'] == \"associate's degree\") | (df['parental level of education'] == \"bachelor's degree\")| (df['parental level of education'] == \"master's degree\")]"
   ]
  },
  {
   "cell_type": "code",
   "execution_count": 364,
   "id": "8eb8083d",
   "metadata": {},
   "outputs": [],
   "source": [
    "b = df[(df['parental level of education'] == \"high school\") | (df['parental level of education'] == \"some high school\")| (df['parental level of education'] == \"some college\")]"
   ]
  },
  {
   "cell_type": "code",
   "execution_count": 365,
   "id": "7179bc61",
   "metadata": {
    "scrolled": false
   },
   "outputs": [
    {
     "data": {
      "text/plain": [
       "Ttest_indResult(statistic=4.311126649886475, pvalue=8.926343543260116e-06)"
      ]
     },
     "execution_count": 365,
     "metadata": {},
     "output_type": "execute_result"
    }
   ],
   "source": [
    "sts.ttest_ind(a['math score'], b['math score'], equal_var=True, alternative='greater')"
   ]
  },
  {
   "cell_type": "markdown",
   "id": "453ac930",
   "metadata": {},
   "source": [
    "P-value меньше уровня значимости, следовательно, нулевая гипотеза отвергается."
   ]
  },
  {
   "cell_type": "code",
   "execution_count": 366,
   "id": "663844ad",
   "metadata": {},
   "outputs": [
    {
     "data": {
      "text/plain": [
       "Ttest_indResult(statistic=4.309042859193758, pvalue=9.155018364116071e-06)"
      ]
     },
     "execution_count": 366,
     "metadata": {},
     "output_type": "execute_result"
    }
   ],
   "source": [
    "sts.ttest_ind(a['math score'], b['math score'], equal_var=False, alternative='greater')"
   ]
  },
  {
   "cell_type": "markdown",
   "id": "dc4e534a",
   "metadata": {},
   "source": [
    "__Почему вы выбрали для проверки гипотезы именно тот критерий, что вы выбрали? Какие у него предпосылки? Все ли они выполняются с данными?__\n",
    "\n",
    "__Ответ:__ Выбрала t-критерий, так как здесь нет истинных значений о равенстве дисперсий. Поэтому я попробовала два варианта с равными/неравными дисперсиями, но в любом случае нулевая гипотеза отвергается. Видно, что данные распределены ненормально, гистограммы совсем слабо напоминают нормальное распределение. А для t-test необходимо, чтоб выборка имела распределение близкое к нормальному. "
   ]
  },
  {
   "cell_type": "code",
   "execution_count": 367,
   "id": "648d982d",
   "metadata": {},
   "outputs": [
    {
     "data": {
      "text/plain": [
       "<AxesSubplot:>"
      ]
     },
     "execution_count": 367,
     "metadata": {},
     "output_type": "execute_result"
    },
    {
     "data": {
      "image/png": "[encoded data removed]",
      "text/plain": [
       "<Figure size 576x288 with 1 Axes>"
      ]
     },
     "metadata": {},
     "output_type": "display_data"
    }
   ],
   "source": [
    "a['math score'].hist()"
   ]
  },
  {
   "cell_type": "code",
   "execution_count": 368,
   "id": "d789b167",
   "metadata": {},
   "outputs": [
    {
     "data": {
      "text/plain": [
       "<AxesSubplot:>"
      ]
     },
     "execution_count": 368,
     "metadata": {},
     "output_type": "execute_result"
    },
    {
     "data": {
      "image/png": "[encoded data removed]",
      "text/plain": [
       "<Figure size 576x288 with 1 Axes>"
      ]
     },
     "metadata": {},
     "output_type": "display_data"
    }
   ],
   "source": [
    "b['math score'].hist()"
   ]
  },
  {
   "cell_type": "code",
   "execution_count": 369,
   "id": "6799463e",
   "metadata": {},
   "outputs": [],
   "source": [
    "import statsmodels.api as sm"
   ]
  },
  {
   "cell_type": "code",
   "execution_count": 370,
   "id": "6b24672c",
   "metadata": {},
   "outputs": [
    {
     "data": {
      "image/png": "[encoded data removed]",
      "text/plain": [
       "<Figure size 576x288 with 1 Axes>"
      ]
     },
     "metadata": {},
     "output_type": "display_data"
    }
   ],
   "source": [
    "fig = sm. qqplot (a['math score'], line='45')\n",
    "\n",
    "plt.show()"
   ]
  },
  {
   "cell_type": "code",
   "execution_count": 371,
   "id": "f9723fa9",
   "metadata": {
    "scrolled": true
   },
   "outputs": [
    {
     "data": {
      "image/png": "[encoded data removed]",
      "text/plain": [
       "<Figure size 576x288 with 1 Axes>"
      ]
     },
     "metadata": {},
     "output_type": "display_data"
    }
   ],
   "source": [
    "fig = sm. qqplot (b['math score'], line='45')\n",
    "\n",
    "plt.show()"
   ]
  },
  {
   "cell_type": "markdown",
   "id": "22e7940e",
   "metadata": {},
   "source": [
    "Данные графики говорят о том, что распределение не совсем похоже на нормальное."
   ]
  },
  {
   "cell_type": "markdown",
   "id": "598b0265",
   "metadata": {},
   "source": [
    "__б)__ __[5 баллов]__  Правда ли что в среднем студенты пишут экзамен по `reading` так же, как и по `math`? \n",
    "\n",
    "Уровень значимости: $5\\%$\n",
    "\n",
    "$$\n",
    "\\begin{aligned}\n",
    "& H_0: \\mu_{math} = \\mu_{reading} \\\\\n",
    "& H_1: \\mu_{math} \\neq \\mu_{reading}\n",
    "\\end{aligned}\n",
    "$$\n",
    "\n",
    "__Подсказка:__ В тесте 2 выборки: баллы по чтению и баллы по математике. Подумайте о том, как эти выборки связаны между собой. Также обратите внимание на альтернативную гипотезу!"
   ]
  },
  {
   "cell_type": "code",
   "execution_count": 372,
   "id": "254ab5b6",
   "metadata": {
    "scrolled": true
   },
   "outputs": [
    {
     "data": {
      "text/plain": [
       "0       0\n",
       "1     -21\n",
       "2      -5\n",
       "3     -10\n",
       "4      -2\n",
       "       ..\n",
       "995   -11\n",
       "996     7\n",
       "997   -12\n",
       "998   -10\n",
       "999    -9\n",
       "Length: 1000, dtype: int64"
      ]
     },
     "execution_count": 372,
     "metadata": {},
     "output_type": "execute_result"
    }
   ],
   "source": [
    "u = df['math score']- df['reading score']\n",
    "u"
   ]
  },
  {
   "cell_type": "code",
   "execution_count": 373,
   "id": "7c8f2130",
   "metadata": {},
   "outputs": [],
   "source": [
    "sigm = np.sqrt(1/(len(df['reading score'])-1) * ((u - df['math score'].mean()+df['reading score'].mean())**2).sum())"
   ]
  },
  {
   "cell_type": "code",
   "execution_count": 374,
   "id": "083ad688",
   "metadata": {
    "scrolled": true
   },
   "outputs": [
    {
     "data": {
      "text/plain": [
       "9.00481463921866"
      ]
     },
     "execution_count": 374,
     "metadata": {},
     "output_type": "execute_result"
    }
   ],
   "source": [
    "sigm"
   ]
  },
  {
   "cell_type": "code",
   "execution_count": 375,
   "id": "8044dc65",
   "metadata": {},
   "outputs": [
    {
     "data": {
      "text/plain": [
       "-3.6390705468902205"
      ]
     },
     "execution_count": 375,
     "metadata": {},
     "output_type": "execute_result"
    }
   ],
   "source": [
    "df['math score'].mean()-df['reading score'].mean() - sts.t.ppf(0.975, 999)*sigm/np.sqrt(999)  #левая граница ДИ"
   ]
  },
  {
   "cell_type": "code",
   "execution_count": 376,
   "id": "21a0c64f",
   "metadata": {},
   "outputs": [
    {
     "data": {
      "text/plain": [
       "-2.520929453109776"
      ]
     },
     "execution_count": 376,
     "metadata": {},
     "output_type": "execute_result"
    }
   ],
   "source": [
    "df['math score'].mean()-df['reading score'].mean() + sts.t.ppf(0.975, 999)*sigm/np.sqrt(999)  #правая граница ДИ"
   ]
  },
  {
   "cell_type": "markdown",
   "id": "2f5bf8ee",
   "metadata": {},
   "source": [
    "Значение 0 не входит в данный ДИ для разности МО, поэтому нулевая гипотеза отвергается на 5% уровне значимости."
   ]
  },
  {
   "cell_type": "markdown",
   "id": "f41de83c",
   "metadata": {},
   "source": [
    "__Почему вы выбрали для проверки гипотезы именно тот критерий, что вы выбрали? Какие у него предпосылки? Все ли они выполняются с данными?__\n",
    "\n",
    "__Ответ:__ Выбрала использовать ДИ, так как было интересно посмотреть на границы разности МО, а также чтобы было более удобно использовать формулу для связанных выборок. Кол-во наблюдений большое, да, все предпосылки есть."
   ]
  },
  {
   "cell_type": "markdown",
   "id": "8af11c40",
   "metadata": {},
   "source": [
    "# Задача №2:  О мышах и людях"
   ]
  },
  {
   "cell_type": "markdown",
   "id": "1fc7725c",
   "metadata": {},
   "source": [
    "Для изучения аспектов процесса принятия моральных решений психологи уже много лет используют этические дилеммы, с помощью которых оценивают действия людей в гипотетических ситуациях. Один из самых известных примеров — это [проблема вагонетки,](https://ru.wikipedia.org/wiki/Проблема_вагонетки) в которой необходимо принять решение о том, стоит ли пожертвовать одним человеком для спасения пятерых.\n",
    "\n",
    "Бельгийские психологи воплотили дилемму в реальную жизнь. Участники эксперимента должны были выбрать, ударить током пять мышей или одну мышь. Эксперимент проходил следующим образом. Участника сажали перед двумя клетками, в одной из которых сидели пять мышей, а в другой — одна. Перед клетками стоял ноутбук с $20$-секундным таймером: участникам сообщили, что по истечении этих $20$ секунд в клетку с пятью мышами пустят ток, и мыши получат не смертельный, но очень болезненный удар. Пока время идет, участник может нажать на кнопку: в этом случае ток пустят по клетке с одной мышью. В исследовании использовали живых мышей. \n",
    "\n",
    "Удары тока были ненастоящими: сразу же после «удара» участников сопроводили в отдельную комнату, где разъяснили им, что мыши в полном порядке и током их не били (об этом заранее догадались только $12$ участников). В решении реальной проблемы вагонетки приняли участие $192$ человека, а еще $83$ решали такую же задачку, но гипотетическую (на бумаге). Все участники также прошли онлайн-опросы, в ходе которых учёные собрали о респондентах кучу дополнительной информации. \n",
    "\n",
    "В файле `mouse.csv` лежит информация о том, как прошёл эксперимент. Нас будут интересовать столбцы: \n",
    "\n",
    "* __STUDY:__ какую проблему вагонетки решал человек $1$, если на бумаге и $2$, если реальную\n",
    "* __AGE:__ возраст респондента \n",
    "* __GENDER:__ пол респондента\n",
    "* __DECISION:__ решение дилеммы ($1$ - жать на кнопу, $0$ - не жать) \n",
    "* __RT:__ время, которое респондент потратил, чтобы нажать на кнопку \n",
    "\n",
    "Подробное описание данных, сами данные и даже код на R, использованный при оценивании моделей, можно найти в [репозитории исследования.](https://osf.io/kvb99/) В статье авторы строили несколько логистических регрессий, чтобы очистить эффект от психологических особенностей респондентов. Про подобные приёмы очистки мы немного поговорим позже.  Также более подробно про исследование [можно почитать на N + 1.](https://nplus1.ru/news/2018/05/11/mice-trolley)"
   ]
  },
  {
   "cell_type": "code",
   "execution_count": 377,
   "id": "012940ac",
   "metadata": {},
   "outputs": [],
   "source": [
    "df = pd.read_csv('data/mouse.csv', sep='\\t')\n",
    "\n",
    "# отбираем нужные колонки\n",
    "df = df[['STUDY', 'AGE', 'GENDER', 'DECISION', 'RT']]\n",
    "\n",
    "# удаляем пропуски по колонке DECISION (то есть тех, кто не смог принять решение)\n",
    "df = df[~df.DECISION.isnull()]"
   ]
  },
  {
   "cell_type": "markdown",
   "id": "52203a84",
   "metadata": {},
   "source": [
    "__а)__ __[5 баллов]__ Попытаемся ответить на тот же вопрос, что и исследователи. В какой из двух ситуаций респонденты чаще принимают решение нажать кнопку: в реальной или на бумаге?\n",
    "\n",
    "Уровень значимости: $5\\%$\n",
    "\n",
    "$$\n",
    "\\begin{aligned}\n",
    "&H_0: \\hspace{2mm} p_1 = p_2 \\hspace{2mm} \\text{(На бумаге и в реальности жмут на кнопку одинаково часто)} \\\\\n",
    "&H_1: \\hspace{2mm} p_1 > p_2  \\hspace{2mm} \\text{(На бумаге на кнопку жмут чаще)}\n",
    "\\end{aligned}\n",
    "$$"
   ]
  },
  {
   "cell_type": "markdown",
   "id": "7eb2dcc5",
   "metadata": {},
   "source": [
    "$$\n",
    "\\left[\\hat p_A - \\hat p_B - z_{crit} \\sqrt{\\frac{\\hat p_A \\cdot (1 - \\hat p_A)}{n_A} + \\frac{\\hat p_B \\cdot (1 - \\hat p_B)}{n_B}} ; \\quad  \\hat p_A - \\hat p_B + z_{crit} \\sqrt{\\frac{\\hat p_A \\cdot (1 - \\hat p_A)}{n_A} + \\frac{\\hat p_B \\cdot (1 - \\hat p_B)}{n_B}} \\right]\n",
    "$$"
   ]
  },
  {
   "cell_type": "markdown",
   "id": "22c53c66",
   "metadata": {},
   "source": [
    "Посчитаем необходимые компоненты для вычисления ДИ"
   ]
  },
  {
   "cell_type": "code",
   "execution_count": 378,
   "id": "c7fd6957",
   "metadata": {},
   "outputs": [],
   "source": [
    "p_p_hat = len(df[df.STUDY == 1][df.DECISION == 1])/len(df[df.STUDY == 1]) #выборочная доля нажавших на кнопку при решении задани на бумаге"
   ]
  },
  {
   "cell_type": "code",
   "execution_count": 379,
   "id": "fedf8c54",
   "metadata": {},
   "outputs": [
    {
     "data": {
      "text/plain": [
       "0.8645833333333334"
      ]
     },
     "execution_count": 379,
     "metadata": {},
     "output_type": "execute_result"
    }
   ],
   "source": [
    "p_p_hat"
   ]
  },
  {
   "cell_type": "code",
   "execution_count": 380,
   "id": "f3479a80",
   "metadata": {},
   "outputs": [],
   "source": [
    "p_r_hat = len(df[df.STUDY == 2][df.DECISION == 1])/len(df[df.STUDY == 2]) #выборочная доля нажавших на кнопку при решении задани в реальности"
   ]
  },
  {
   "cell_type": "code",
   "execution_count": 381,
   "id": "835d2c10",
   "metadata": {},
   "outputs": [
    {
     "data": {
      "text/plain": [
       "0.7469879518072289"
      ]
     },
     "execution_count": 381,
     "metadata": {},
     "output_type": "execute_result"
    }
   ],
   "source": [
    "p_r_hat"
   ]
  },
  {
   "cell_type": "code",
   "execution_count": 382,
   "id": "e7752479",
   "metadata": {},
   "outputs": [],
   "source": [
    "left = p_p_hat - p_r_hat - 1.96*np.sqrt((p_p_hat*(1 - p_p_hat)/len(df[df.STUDY == 1]))+p_r_hat*(1-p_r_hat)/len(df[df.STUDY == 2]))"
   ]
  },
  {
   "cell_type": "code",
   "execution_count": 383,
   "id": "f7cd0f79",
   "metadata": {},
   "outputs": [
    {
     "data": {
      "text/plain": [
       "0.012285580519163022"
      ]
     },
     "execution_count": 383,
     "metadata": {},
     "output_type": "execute_result"
    }
   ],
   "source": [
    "left  # левая граница ДИ"
   ]
  },
  {
   "cell_type": "code",
   "execution_count": 384,
   "id": "38a1c839",
   "metadata": {},
   "outputs": [],
   "source": [
    "right = p_p_hat - p_r_hat + 1.96*np.sqrt((p_p_hat*(1 - p_p_hat)/len(df[df.STUDY == 1]))+p_r_hat*(1-p_r_hat)/len(df[df.STUDY == 2]))"
   ]
  },
  {
   "cell_type": "code",
   "execution_count": 386,
   "id": "d4814ebd",
   "metadata": {},
   "outputs": [
    {
     "data": {
      "text/plain": [
       "0.22290518253304598"
      ]
     },
     "execution_count": 386,
     "metadata": {},
     "output_type": "execute_result"
    }
   ],
   "source": [
    "right  # правая граница ДИ"
   ]
  },
  {
   "cell_type": "markdown",
   "id": "bf924fd7",
   "metadata": {},
   "source": [
    "Видим, что значение 0 не попадает в 95% ДИ для разницы долей, следовательно, нулевая гипотеза отвергается на уровне значимости 5%."
   ]
  },
  {
   "cell_type": "markdown",
   "id": "9e5d05c7",
   "metadata": {},
   "source": [
    "__Почему вы выбрали для проверки гипотезы именно тот критерий, что вы выбрали? Какие у него предпосылки? Все ли они выполняются с данными?__\n",
    "\n",
    "__Ответ:__ ДИ для разницы долей удобен, так как можно посмотреть, в каких значениях лежит данная величина. Предпосылки выполняются."
   ]
  },
  {
   "cell_type": "markdown",
   "id": "bfb9069e",
   "metadata": {},
   "source": [
    "__б)__ __[5 баллов]__  Кровожадные люди быстро берут на себя ответственность за удар мышки током. Будем считать, что кровожадные люди принимают решение менее, чем за пять секунд. Правда ли, что люди по своей природе кровожадные? \n",
    "\n",
    "Уровень значимости: $5\\%$\n",
    "\n",
    "$$\n",
    "\\begin{aligned}\n",
    "&H_0: \\hspace{2mm} \\mu \\le 5 \\hspace{2mm} \\text{(Люди кровожадны)} \\\\\n",
    "&H_1: \\hspace{2mm} \\mu > 5  \\hspace{2mm} \\text{(Люди не кровожадны)}\n",
    "\\end{aligned}\n",
    "$$"
   ]
  },
  {
   "cell_type": "code",
   "execution_count": 387,
   "id": "142c15b1",
   "metadata": {},
   "outputs": [
    {
     "data": {
      "text/html": [
       "<div>\n",
       "<style scoped>\n",
       "    .dataframe tbody tr th:only-of-type {\n",
       "        vertical-align: middle;\n",
       "    }\n",
       "\n",
       "    .dataframe tbody tr th {\n",
       "        vertical-align: top;\n",
       "    }\n",
       "\n",
       "    .dataframe thead th {\n",
       "        text-align: right;\n",
       "    }\n",
       "</style>\n",
       "<table border=\"1\" class=\"dataframe\">\n",
       "  <thead>\n",
       "    <tr style=\"text-align: right;\">\n",
       "      <th></th>\n",
       "      <th>STUDY</th>\n",
       "      <th>AGE</th>\n",
       "      <th>GENDER</th>\n",
       "      <th>DECISION</th>\n",
       "      <th>RT</th>\n",
       "    </tr>\n",
       "  </thead>\n",
       "  <tbody>\n",
       "    <tr>\n",
       "      <th>3</th>\n",
       "      <td>1</td>\n",
       "      <td>21</td>\n",
       "      <td>0</td>\n",
       "      <td>1.0</td>\n",
       "      <td>9.212427</td>\n",
       "    </tr>\n",
       "    <tr>\n",
       "      <th>4</th>\n",
       "      <td>1</td>\n",
       "      <td>20</td>\n",
       "      <td>0</td>\n",
       "      <td>1.0</td>\n",
       "      <td>17.071711</td>\n",
       "    </tr>\n",
       "    <tr>\n",
       "      <th>5</th>\n",
       "      <td>1</td>\n",
       "      <td>21</td>\n",
       "      <td>1</td>\n",
       "      <td>1.0</td>\n",
       "      <td>9.827884</td>\n",
       "    </tr>\n",
       "    <tr>\n",
       "      <th>6</th>\n",
       "      <td>1</td>\n",
       "      <td>23</td>\n",
       "      <td>1</td>\n",
       "      <td>1.0</td>\n",
       "      <td>10.143030</td>\n",
       "    </tr>\n",
       "    <tr>\n",
       "      <th>7</th>\n",
       "      <td>1</td>\n",
       "      <td>20</td>\n",
       "      <td>1</td>\n",
       "      <td>1.0</td>\n",
       "      <td>7.447534</td>\n",
       "    </tr>\n",
       "    <tr>\n",
       "      <th>...</th>\n",
       "      <td>...</td>\n",
       "      <td>...</td>\n",
       "      <td>...</td>\n",
       "      <td>...</td>\n",
       "      <td>...</td>\n",
       "    </tr>\n",
       "    <tr>\n",
       "      <th>286</th>\n",
       "      <td>2</td>\n",
       "      <td>20</td>\n",
       "      <td>1</td>\n",
       "      <td>1.0</td>\n",
       "      <td>NaN</td>\n",
       "    </tr>\n",
       "    <tr>\n",
       "      <th>287</th>\n",
       "      <td>2</td>\n",
       "      <td>21</td>\n",
       "      <td>1</td>\n",
       "      <td>1.0</td>\n",
       "      <td>NaN</td>\n",
       "    </tr>\n",
       "    <tr>\n",
       "      <th>288</th>\n",
       "      <td>2</td>\n",
       "      <td>19</td>\n",
       "      <td>0</td>\n",
       "      <td>0.0</td>\n",
       "      <td>NaN</td>\n",
       "    </tr>\n",
       "    <tr>\n",
       "      <th>289</th>\n",
       "      <td>2</td>\n",
       "      <td>21</td>\n",
       "      <td>0</td>\n",
       "      <td>1.0</td>\n",
       "      <td>NaN</td>\n",
       "    </tr>\n",
       "    <tr>\n",
       "      <th>290</th>\n",
       "      <td>2</td>\n",
       "      <td>19</td>\n",
       "      <td>0</td>\n",
       "      <td>1.0</td>\n",
       "      <td>NaN</td>\n",
       "    </tr>\n",
       "  </tbody>\n",
       "</table>\n",
       "<p>275 rows × 5 columns</p>\n",
       "</div>"
      ],
      "text/plain": [
       "     STUDY  AGE  GENDER  DECISION         RT\n",
       "3        1   21       0       1.0   9.212427\n",
       "4        1   20       0       1.0  17.071711\n",
       "5        1   21       1       1.0   9.827884\n",
       "6        1   23       1       1.0  10.143030\n",
       "7        1   20       1       1.0   7.447534\n",
       "..     ...  ...     ...       ...        ...\n",
       "286      2   20       1       1.0        NaN\n",
       "287      2   21       1       1.0        NaN\n",
       "288      2   19       0       0.0        NaN\n",
       "289      2   21       0       1.0        NaN\n",
       "290      2   19       0       1.0        NaN\n",
       "\n",
       "[275 rows x 5 columns]"
      ]
     },
     "execution_count": 387,
     "metadata": {},
     "output_type": "execute_result"
    }
   ],
   "source": [
    "df"
   ]
  },
  {
   "cell_type": "code",
   "execution_count": 388,
   "id": "ee8233cf",
   "metadata": {},
   "outputs": [
    {
     "data": {
      "text/plain": [
       "10.116762704819278"
      ]
     },
     "execution_count": 388,
     "metadata": {},
     "output_type": "execute_result"
    }
   ],
   "source": [
    "df.RT.mean()"
   ]
  },
  {
   "cell_type": "code",
   "execution_count": 389,
   "id": "a353059c",
   "metadata": {},
   "outputs": [
    {
     "data": {
      "text/plain": [
       "5.080956032263837"
      ]
     },
     "execution_count": 389,
     "metadata": {},
     "output_type": "execute_result"
    }
   ],
   "source": [
    "df.RT.std()"
   ]
  },
  {
   "cell_type": "code",
   "execution_count": 392,
   "id": "d8a804f4",
   "metadata": {
    "scrolled": true
   },
   "outputs": [
    {
     "data": {
      "text/plain": [
       "1.6504134325561477"
      ]
     },
     "execution_count": 392,
     "metadata": {},
     "output_type": "execute_result"
    }
   ],
   "source": [
    "sts.t.ppf(0.95, len(df.RT))"
   ]
  },
  {
   "cell_type": "code",
   "execution_count": 393,
   "id": "4fc06a1b",
   "metadata": {},
   "outputs": [],
   "source": [
    "left = df.RT.mean()-sts.t.ppf(0.95, len(df.RT))*df.RT.std()/np.sqrt(len(df.RT))"
   ]
  },
  {
   "cell_type": "code",
   "execution_count": 394,
   "id": "b9d1860d",
   "metadata": {},
   "outputs": [
    {
     "data": {
      "text/plain": [
       "9.61108728984556"
      ]
     },
     "execution_count": 394,
     "metadata": {},
     "output_type": "execute_result"
    }
   ],
   "source": [
    "left  # левая граница ДИ"
   ]
  },
  {
   "cell_type": "code",
   "execution_count": 395,
   "id": "a735cc3f",
   "metadata": {},
   "outputs": [],
   "source": [
    "right = df.RT.mean()+sts.t.ppf(0.95, len(df.RT))*df.RT.std()/np.sqrt(len(df.RT))"
   ]
  },
  {
   "cell_type": "code",
   "execution_count": 396,
   "id": "84fb2059",
   "metadata": {},
   "outputs": [
    {
     "data": {
      "text/plain": [
       "10.622438119792996"
      ]
     },
     "execution_count": 396,
     "metadata": {},
     "output_type": "execute_result"
    }
   ],
   "source": [
    "right  # правая граница ДИ"
   ]
  },
  {
   "cell_type": "markdown",
   "id": "b41d4c5e",
   "metadata": {},
   "source": [
    "Видим, что значние МО 5 не входит в 95% ДИ, поэтому нулевая гипотеза отвергается."
   ]
  },
  {
   "cell_type": "markdown",
   "id": "be41463e",
   "metadata": {},
   "source": [
    "__Почему вы выбрали для проверки гипотезы именно тот критерий, что вы выбрали? Какие у него предпосылки? Все ли они выполняются с данными?__\n",
    "\n",
    "__Ответ:__ Тоже ДИ, по тем же соображениям, как и в предыдущих пунктах. Предпосылки выполняются.\n"
   ]
  },
  {
   "cell_type": "markdown",
   "id": "75e9288d",
   "metadata": {},
   "source": [
    "# Задача №3:  Парадокс"
   ]
  },
  {
   "cell_type": "markdown",
   "id": "124962b3",
   "metadata": {},
   "source": [
    "Помимо решения задач и применения различных функций из библиотек необходимо очень аккуратно работать с данным и понимать, какие действия корректны, а какие нет. Перед вами результаты медицинских исследований: \n",
    "\n",
    "- из $1650$ мужчин, принимавших лекарство, выздоровели $770$, \n",
    "- из $223$ мужчин, не принимавших лекарство, выздоровели $88$,\n",
    "- из $245$ женщин, принимавших лекарство, выздоровели $165$,\n",
    "- из $750$ женщин, не принимавших лекарство женщин, выздоровели $440$.\n",
    "\n",
    "Необходимо найти ответы на следующие вопросы: \n",
    "\n",
    "1. Влияет ли лекарство на мужчин?\n",
    "2. Влияет ли лекарство на женщин? \n",
    "3. Влияет ли лекарство на людей обоих полов в целом?\n",
    "\n",
    "Будем считать, что исследование проводилось методом двойного слепого тестирования. Врач не знал, даёт ли он пациенту плацебо или лекарство, пациент не знал, пьёт ли он плацебо или лекарство. "
   ]
  },
  {
   "cell_type": "markdown",
   "id": "8b8755a4",
   "metadata": {},
   "source": [
    "Запишем данные в табличку. Пусть $A$ — принимавшие лекарство, $\\overline{A}$ — не принимавшие лекарство, $B$ — выздоровевшие, $\\overline{B}$ — не выздоровевшие."
   ]
  },
  {
   "cell_type": "markdown",
   "id": "bf171f4c",
   "metadata": {},
   "source": [
    "<!--<img width=\"60%\" src=\"pics/pic2.png\">-->\n",
    "<table>\n",
    "<tr><td>\n",
    "    \n",
    "|Мужчины| $B$ |  $\\overline{B}$|\n",
    "|--|--|--|\n",
    "|$A$| 770 | 880 |\n",
    "|$\\overline{A}$| 88 | 135 |\n",
    "​\n",
    "</td><td>\n",
    "    \n",
    "|Женщины| $B$ |  $\\overline{B}$|\n",
    "|--|--|--|\n",
    "|$A$| 165 | 80 |\n",
    "|$\\overline{A}$| 440 | 310 |\n",
    "​\n",
    "</td><td>\n",
    "​\n",
    "|Вместе| $B$ |  $\\overline{B}$|\n",
    "|--|--|--|\n",
    "|$A$| 935 | 960 |\n",
    "|$\\overline{A}$| 528 | 445 |\n",
    "​\n",
    "</td></tr> </table>"
   ]
  },
  {
   "cell_type": "markdown",
   "id": "27e29221",
   "metadata": {},
   "source": [
    "Для решения задачи воспользуйтесь критерием хи-квадрат Пирсона. Мы его не разбирали на семинарах, однако на курсе матстата он у вас был. Вспомнить как он работает можно [в этом видео.](https://www.youtube.com/watch?v=bws1CB9XZ6E&list=PLCf-cQCe1FRyCcf47wwBlDObNcz4ud2_L&index=10) Посмотреть на код можно [в этом видео.](https://www.youtube.com/watch?v=H3NtBN_o-hk&list=PLCf-cQCe1FRyCcf47wwBlDObNcz4ud2_L&index=12) Тетрадку с кодом можно [найти тут.](https://github.com/FUlyankin/matstat-AB/blob/main/week10_nonparam_bootstrap/04_05_python_kolmogorov_pearson.ipynb)\n",
    "\n",
    "Тест поможет нам понять, есть ли у лекарства какой-то эффект. Применить тест в python помогает функция `chi2_contingency` из пакета `scipy.stats`. Используйте её с параметром `correction=False`."
   ]
  },
  {
   "cell_type": "markdown",
   "id": "e2ac4432",
   "metadata": {},
   "source": [
    "__а)__ __[5 баллов]__ Давайте попробуем найти ответ на вопрос, есть ли эффект от лекарства для мужчин? "
   ]
  },
  {
   "cell_type": "markdown",
   "id": "2c2adcf6",
   "metadata": {},
   "source": [
    "Давайте предварительно посчитаем долю выздровевших мужчин, которые принимали лекарство и долю выздровевших мужчин, которые не принимали лекартсво. Сравните эти доли."
   ]
  },
  {
   "cell_type": "code",
   "execution_count": 397,
   "id": "6f4c1281",
   "metadata": {},
   "outputs": [],
   "source": [
    "share_recovered_med = 770/1650\n",
    "share_recovered_placebo = 88/223"
   ]
  },
  {
   "cell_type": "code",
   "execution_count": 398,
   "id": "d767dd0e",
   "metadata": {},
   "outputs": [
    {
     "data": {
      "text/plain": [
       "(0.4666666666666667, 0.39461883408071746)"
      ]
     },
     "execution_count": 398,
     "metadata": {},
     "output_type": "execute_result"
    }
   ],
   "source": [
    "share_recovered_med, share_recovered_placebo  # доля восстановившихся мужчин, принимавших лекарство, и доля восстановившихся мужчин, принимавших плацебо, соответственно"
   ]
  },
  {
   "cell_type": "markdown",
   "id": "2dcdaf12",
   "metadata": {},
   "source": [
    "Разница между ними составляет порядка 7 процентов."
   ]
  },
  {
   "cell_type": "markdown",
   "id": "41798f7d",
   "metadata": {},
   "source": [
    "Создадим матрицу размера $2 \\times 2.$ Внесём в неё частоты, полученные для мужчин."
   ]
  },
  {
   "cell_type": "code",
   "execution_count": 399,
   "id": "be26de4b",
   "metadata": {},
   "outputs": [],
   "source": [
    "men = np.array([[770,880],[88,135]])"
   ]
  },
  {
   "cell_type": "code",
   "execution_count": 400,
   "id": "36c1f4f3",
   "metadata": {},
   "outputs": [],
   "source": [
    "from scipy.stats import chi2_contingency"
   ]
  },
  {
   "cell_type": "code",
   "execution_count": 401,
   "id": "2daa05a4",
   "metadata": {},
   "outputs": [
    {
     "data": {
      "text/plain": [
       "(4.107854906463222,\n",
       " 0.04268446899604581,\n",
       " 1,\n",
       " array([[755.84623599, 894.15376401],\n",
       "        [102.15376401, 120.84623599]]))"
      ]
     },
     "execution_count": 401,
     "metadata": {},
     "output_type": "execute_result"
    }
   ],
   "source": [
    "chi2_contingency(men, correction=False)"
   ]
  },
  {
   "cell_type": "markdown",
   "id": "3bc57a48",
   "metadata": {},
   "source": [
    "p-value = 4.3%, поэтому гипотеза о том, что лекарство не влияет на мужчин отвергается на уровне 5%. Данный вывод согласуется с долями."
   ]
  },
  {
   "cell_type": "markdown",
   "id": "9f8af293",
   "metadata": {},
   "source": [
    "__б)__ __[10 баллов]__ Сделайте всё то же самое, но руками, без помощи библиотеки."
   ]
  },
  {
   "cell_type": "markdown",
   "id": "c502f4bf",
   "metadata": {},
   "source": [
    "Для того, чтобы расчитать тестовую стаститику хи-квадрат, нам необходимо найти матрицу ожидаемых частот, такую же, которая у нас получилась в предыдущем пункте в output-е функции `chi2_contingency`. \n",
    "\n",
    "Используя матрицу из предыдущего пункта, посчитайте общее количество испытуемых мужчин."
   ]
  },
  {
   "cell_type": "code",
   "execution_count": 402,
   "id": "f0dd39a8",
   "metadata": {},
   "outputs": [
    {
     "data": {
      "text/plain": [
       "1873"
      ]
     },
     "execution_count": 402,
     "metadata": {},
     "output_type": "execute_result"
    }
   ],
   "source": [
    "a = men.sum()\n",
    "a"
   ]
  },
  {
   "cell_type": "markdown",
   "id": "f95947b1",
   "metadata": {},
   "source": [
    "Посчитайте отдельно количество испытуемых мужчин, которые принимали лекарство, и которые не принимали его $(n1, n2)$"
   ]
  },
  {
   "cell_type": "code",
   "execution_count": 403,
   "id": "da250914",
   "metadata": {},
   "outputs": [
    {
     "data": {
      "text/plain": [
       "1650"
      ]
     },
     "execution_count": 403,
     "metadata": {},
     "output_type": "execute_result"
    }
   ],
   "source": [
    "n1 = men[0].sum()\n",
    "n1"
   ]
  },
  {
   "cell_type": "code",
   "execution_count": 404,
   "id": "57342edb",
   "metadata": {},
   "outputs": [
    {
     "data": {
      "text/plain": [
       "223"
      ]
     },
     "execution_count": 404,
     "metadata": {},
     "output_type": "execute_result"
    }
   ],
   "source": [
    "n2 = men[1].sum()\n",
    "n2"
   ]
  },
  {
   "cell_type": "markdown",
   "id": "a2dacd87",
   "metadata": {},
   "source": [
    "Найдите вероятности выздороветь или нет (независимо от группы по приему/не приему лекарства), то есть вероятность попасть в $B$ и $\\overline{B}$ для мужчин."
   ]
  },
  {
   "cell_type": "code",
   "execution_count": 405,
   "id": "0bce31e6",
   "metadata": {},
   "outputs": [
    {
     "data": {
      "text/plain": [
       "0.4580886278697277"
      ]
     },
     "execution_count": 405,
     "metadata": {},
     "output_type": "execute_result"
    }
   ],
   "source": [
    "p_B = men.sum(axis = 0)[0]/a\n",
    "p_B"
   ]
  },
  {
   "cell_type": "code",
   "execution_count": 406,
   "id": "853a38d6",
   "metadata": {},
   "outputs": [
    {
     "data": {
      "text/plain": [
       "0.5419113721302723"
      ]
     },
     "execution_count": 406,
     "metadata": {},
     "output_type": "execute_result"
    }
   ],
   "source": [
    "p_B_ = men.sum(axis = 0)[1]/a\n",
    "p_B_"
   ]
  },
  {
   "cell_type": "markdown",
   "id": "dfe3336a",
   "metadata": {},
   "source": [
    "Расчитайте ожидаемые (теоритические) значения для каждой ячейки матрицы. Для этого перемножьте вероятности из предыдущего пункта со значениями $n_1$ и $n_2$. Полученную матрицу можно сравнить с выводом библиотеки`scipy.stats`, она должна быть идентичной."
   ]
  },
  {
   "cell_type": "code",
   "execution_count": 407,
   "id": "588b9fec",
   "metadata": {},
   "outputs": [],
   "source": [
    "y = [[n1*p_B, n1*p_B_], [n2*p_B, n2*p_B_]]"
   ]
  },
  {
   "cell_type": "markdown",
   "id": "ae5eec5a",
   "metadata": {},
   "source": [
    "Матрицы идентичны"
   ]
  },
  {
   "cell_type": "markdown",
   "id": "1f1d3681",
   "metadata": {},
   "source": [
    "Расчитайте наблюдаемую статистику и найдите `p_value` с помощью `sts.chi2.cdf` с параметром `df=1`.\n",
    "\n",
    "\\begin{equation*} \\chi^2_d = \\sum {\\frac {(O-E)^2}{E}},\\end{equation*}\n",
    "\n",
    "где\n",
    "\n",
    "- $E$ - наши ожидаемые частоты(матрица из предыдущего пукта),\n",
    "- $O$ - наблюдаемы частоты(первоначальная матрица)."
   ]
  },
  {
   "cell_type": "code",
   "execution_count": 408,
   "id": "06444993",
   "metadata": {},
   "outputs": [],
   "source": [
    "stat = ((y - men)**2/men).sum()"
   ]
  },
  {
   "cell_type": "code",
   "execution_count": 409,
   "id": "6c9ffe4b",
   "metadata": {},
   "outputs": [
    {
     "data": {
      "text/plain": [
       "4.248199309971195"
      ]
     },
     "execution_count": 409,
     "metadata": {},
     "output_type": "execute_result"
    }
   ],
   "source": [
    "stat"
   ]
  },
  {
   "cell_type": "code",
   "execution_count": 410,
   "id": "ec62efc0",
   "metadata": {},
   "outputs": [
    {
     "data": {
      "text/plain": [
       "0.039291971388500824"
      ]
     },
     "execution_count": 410,
     "metadata": {},
     "output_type": "execute_result"
    }
   ],
   "source": [
    "1 - sts.chi2.cdf(stat, df = 1)  # p-value"
   ]
  },
  {
   "cell_type": "markdown",
   "id": "05018c54",
   "metadata": {},
   "source": [
    "Видим, что p-value меньше 5%, поэтому гипотеза о независимости отвергается на уровне значимости 5%."
   ]
  },
  {
   "cell_type": "markdown",
   "id": "fd514794",
   "metadata": {},
   "source": [
    "__в)__ __[5 баллов]__  Ответьте на вопрос: есть ли эффект от лекарства для женщин? (повторите процедуру пункта а) \n",
    "\n",
    "Как и в предыдущий раз, для начала, посчитайте долю выздровевших женщин, которые принимали лекарство и долю выздровевших женщин, которые не принимали лекартсво. Сравните эти доли."
   ]
  },
  {
   "cell_type": "code",
   "execution_count": 411,
   "id": "a06b98f4",
   "metadata": {},
   "outputs": [
    {
     "data": {
      "text/plain": [
       "(5.838444095586957,\n",
       " 0.015679686056826774,\n",
       " 1,\n",
       " array([[148.96984925,  96.03015075],\n",
       "        [456.03015075, 293.96984925]]))"
      ]
     },
     "execution_count": 411,
     "metadata": {},
     "output_type": "execute_result"
    }
   ],
   "source": [
    "share_recovered_med = 165/245\n",
    "share_recovered_placebo = 440/750\n",
    "\n",
    "women = np.array([[165,80],[440,310]])\n",
    "\n",
    "chi2_contingency(women, correction=False)"
   ]
  },
  {
   "cell_type": "code",
   "execution_count": 412,
   "id": "0bbc4c4c",
   "metadata": {},
   "outputs": [
    {
     "data": {
      "text/plain": [
       "(0.673469387755102, 0.5866666666666667)"
      ]
     },
     "execution_count": 412,
     "metadata": {},
     "output_type": "execute_result"
    }
   ],
   "source": [
    "share_recovered_med, share_recovered_placebo"
   ]
  },
  {
   "cell_type": "markdown",
   "id": "99c5cf1c",
   "metadata": {},
   "source": [
    "Доли и различаются на почти 10 процентов, но по ним нельзя сделать вывод о том, влияет ли лекарство в действительности на них."
   ]
  },
  {
   "cell_type": "markdown",
   "id": "e101ed15",
   "metadata": {},
   "source": [
    "Сделав Хи^2 тест, видно, что p-value попадает в критическую область 5% уровня значимости. Значит, гипотеза о том, что они независимы, отвергается, что также видно из долей."
   ]
  },
  {
   "cell_type": "markdown",
   "id": "01f501dc",
   "metadata": {},
   "source": [
    "__г)__ __[5 баллов]__  Ответьте на вопрос: есть ли эффект от лекарства для объединенной группы?"
   ]
  },
  {
   "cell_type": "code",
   "execution_count": 415,
   "id": "35471ec7",
   "metadata": {},
   "outputs": [
    {
     "data": {
      "text/plain": [
       "(6.239588767305169,\n",
       " 0.012492547994073244,\n",
       " 1,\n",
       " array([[966.66143654, 928.33856346],\n",
       "        [496.33856346, 476.66143654]]))"
      ]
     },
     "execution_count": 415,
     "metadata": {},
     "output_type": "execute_result"
    }
   ],
   "source": [
    "share_recovered_med = 935/(935+960)\n",
    "share_recovered_placebo = 528/(528+445)\n",
    "\n",
    "l = np.array([[935,960],[528,445]])\n",
    "\n",
    "chi2_contingency(l, correction=False)"
   ]
  },
  {
   "cell_type": "code",
   "execution_count": 416,
   "id": "a3d0339f",
   "metadata": {},
   "outputs": [
    {
     "data": {
      "text/plain": [
       "(0.49340369393139843, 0.5426515930113053)"
      ]
     },
     "execution_count": 416,
     "metadata": {},
     "output_type": "execute_result"
    }
   ],
   "source": [
    "share_recovered_med, share_recovered_placebo"
   ]
  },
  {
   "cell_type": "markdown",
   "id": "9b73fe6e",
   "metadata": {},
   "source": [
    "Видим, что для общей группы лекарство (судя по долям) делает даже хуже. Рассматривая Хи-2 критерий гипотеза о независимости отвергается. __Вот и парадокс__."
   ]
  },
  {
   "cell_type": "markdown",
   "id": "af5eed01",
   "metadata": {},
   "source": [
    "# Часть 2: А/Б-тестирование"
   ]
  },
  {
   "cell_type": "markdown",
   "id": "505cb22f",
   "metadata": {},
   "source": [
    "## Задача №4: Не подглядывать!"
   ]
  },
  {
   "cell_type": "markdown",
   "id": "34fd8a17",
   "metadata": {},
   "source": [
    "__а) [10 баллов]  Подсчет размера выборки для А/Б-теста__\n",
    "\n",
    "Предположим, что вы хотите провести А/Б-тест внутри вашего приложения. Вы выбрали некоторую метрику $X$ – случайную величину из нормального распределения с мат. ожиданием $100$ у.е. и стандартным отклонением $40$ у.е – это ваш бейзлайн (группа А). Рассчитайте, сколько дней вам нужно крутить такой А/Б-тест, если:\n",
    "\n",
    "1. Вы ожидаете получить минимальный размер эффекта в $5$ у.е.;\n",
    "2. Вы хотите зафиксировать ошибку первого рода на уровне $\\alpha=5\\%$, а ошибку второго рода на уровне $\\beta=20\\%$;\n",
    "3. Вы точно знаете, что в группе Б стандартное отклонение метрики составляет также $20$ у.е.\n",
    "4. Посещаемость вашего приложения ежедневно составляет $200$ пользователей, и вы готовы раскатить тест на $100\\%$ трафика.\n",
    "\n",
    "Формула для расчета числа наблюдений _для одной группы_:\n",
    "\n",
    "$$\n",
    "n_{\\text{one group}} = \\frac{(\\sigma_A^2 + \\sigma_B^2) \\cdot (z_{1-\\frac{\\alpha}{2}} + z_{1-\\beta})^2}{MDE^2},\n",
    "$$\n",
    "\n",
    "__Подсказка:__ Помните, что после получения общего числа наблюдений вам нужно выразить это в дни! Вы должны получить целое число. Также будьте аккуратны с подсчетом трафика и кол-ва наблюдений – обратите внимание, со скольким числом групп вы работаете!"
   ]
  },
  {
   "cell_type": "markdown",
   "id": "4006accf",
   "metadata": {},
   "source": [
    "Учитывая комменарий про одинаковую дисперсию, предположу, что для обеих величин, она равна 1600."
   ]
  },
  {
   "cell_type": "code",
   "execution_count": 417,
   "id": "2f93f787",
   "metadata": {
    "scrolled": false
   },
   "outputs": [
    {
     "data": {
      "text/plain": [
       "(1004.6566059966833, 10.046566059966834)"
      ]
     },
     "execution_count": 417,
     "metadata": {},
     "output_type": "execute_result"
    }
   ],
   "source": [
    "n = ((40**2 + 40**2)*(sts.norm(0, 1).ppf(1-0.05/2) + sts.norm(0, 1).ppf(1-0.2))**2)/(5*5)\n",
    "days = ((40**2 + 40**2)*(sts.norm(0, 1).ppf(1-0.05/2) + sts.norm(0, 1).ppf(1-0.2))**2)*2/(5*5*200)\n",
    "n, days"
   ]
  },
  {
   "cell_type": "markdown",
   "id": "d9291b82",
   "metadata": {},
   "source": [
    "Получили, что для одной группы должно быть 1000 пользователей, теперь умножим это на 2 (так как группы 2) и разделим на 200, чтоб получить кол-во дней А\\Б-теста (так как трафик в день = 200 пользователей)."
   ]
  },
  {
   "cell_type": "markdown",
   "id": "a85d5dbd",
   "metadata": {},
   "source": [
    "Округлим количество дней в большую сторону, получим, __11__ дней для А\\Б-теста."
   ]
  },
  {
   "cell_type": "markdown",
   "id": "922dee95",
   "metadata": {},
   "source": [
    "__б) [25 баллов] Симуляция А/Б-теста__\n",
    "\n",
    "Теперь нам нужно запустить А/Б-тест. Для этого:"
   ]
  },
  {
   "cell_type": "markdown",
   "id": "dca9692b",
   "metadata": {},
   "source": [
    "1. Сгенерируйте выборку данных из нормального распределения для группы А и Б в конкретный один день. Считайте, что в группе Б математическое ожидание составляет $105$ у.е., то есть с учетом размера вашего минимального ожидаемого эффекта из предыдущего пункта."
   ]
  },
  {
   "cell_type": "code",
   "execution_count": 418,
   "id": "5d189e66",
   "metadata": {},
   "outputs": [],
   "source": [
    "np.random.seed(42)\n",
    "a = np.random.normal(100, 40, 200)\n",
    "b = np.random.normal(105, 40, 200)\n"
   ]
  },
  {
   "cell_type": "markdown",
   "id": "d91cf51f",
   "metadata": {},
   "source": [
    "2. Теперь представим, что наш тест был запущен $X$ дней. Напишите функцию, которая за этот период теста собирает в `DataFrame` следующие данные на каждый день теста: \n",
    "    1. среднее метрики в группе А\n",
    "    2. среднее метрики в группе Б\n",
    "    3. p-value, посчитанное с помощью t-test – можно воспользоваться встроенной функцией `scipy.stats.ttest_ind`\n",
    "    \n",
    "    Соберите `DataFrame` для $X=50$.\n",
    "    \n",
    "__Подсказка:__ Среднее для 1-го дня должно считаться по пользователям, пришедших в первый день, для второго дня – по пользователям, пришедшим в первый и второй день и т.д. То есть накопленным итогом за каждый день теста."
   ]
  },
  {
   "cell_type": "markdown",
   "id": "b6e43ff8",
   "metadata": {},
   "source": [
    "H0: МО_А = МО_В\n",
    "\n",
    "H1: МО_А != МО_В\n",
    "    "
   ]
  },
  {
   "cell_type": "code",
   "execution_count": 419,
   "id": "9b6e482a",
   "metadata": {},
   "outputs": [],
   "source": [
    "df = pd.DataFrame()"
   ]
  },
  {
   "cell_type": "code",
   "execution_count": 420,
   "id": "5782c559",
   "metadata": {},
   "outputs": [],
   "source": [
    "df['mean_A'] = np.zeros(50)\n",
    "df['mean_B'] = np.zeros(50)\n",
    "df['p-value'] = np.zeros(50)"
   ]
  },
  {
   "cell_type": "code",
   "execution_count": 421,
   "id": "cca69153",
   "metadata": {
    "scrolled": false
   },
   "outputs": [],
   "source": [
    "A = np.array([])\n",
    "B = np.array([])\n",
    "for i in range(50):\n",
    "    #print(a)\n",
    "    #print(b)\n",
    "    a = np.random.normal(100, 40, 200)\n",
    "    b = np.random.normal(105, 40, 200)\n",
    "    A = np.append(A, a)\n",
    "    B = np.append(B, b)\n",
    "    #print(A)\n",
    "    df['mean_A'][i] = A.mean()\n",
    "    df['mean_B'][i] = B.mean()\n",
    "    df['p-value'][i] = sts.ttest_ind(A, B)[1]\n",
    "    #print(a.mean(), b.mean(), sts.ttest_ind(a, b)[1])\n",
    "    \n"
   ]
  },
  {
   "cell_type": "code",
   "execution_count": 422,
   "id": "e1917db9",
   "metadata": {},
   "outputs": [],
   "source": [
    "df.index = np.arange(1, 51)"
   ]
  },
  {
   "cell_type": "code",
   "execution_count": 423,
   "id": "505527db",
   "metadata": {},
   "outputs": [
    {
     "data": {
      "text/html": [
       "<div>\n",
       "<style scoped>\n",
       "    .dataframe tbody tr th:only-of-type {\n",
       "        vertical-align: middle;\n",
       "    }\n",
       "\n",
       "    .dataframe tbody tr th {\n",
       "        vertical-align: top;\n",
       "    }\n",
       "\n",
       "    .dataframe thead th {\n",
       "        text-align: right;\n",
       "    }\n",
       "</style>\n",
       "<table border=\"1\" class=\"dataframe\">\n",
       "  <thead>\n",
       "    <tr style=\"text-align: right;\">\n",
       "      <th></th>\n",
       "      <th>mean_A</th>\n",
       "      <th>mean_B</th>\n",
       "      <th>p-value</th>\n",
       "    </tr>\n",
       "  </thead>\n",
       "  <tbody>\n",
       "    <tr>\n",
       "      <th>1</th>\n",
       "      <td>96.573799</td>\n",
       "      <td>105.358666</td>\n",
       "      <td>2.975401e-02</td>\n",
       "    </tr>\n",
       "    <tr>\n",
       "      <th>2</th>\n",
       "      <td>100.851928</td>\n",
       "      <td>107.851993</td>\n",
       "      <td>1.381132e-02</td>\n",
       "    </tr>\n",
       "    <tr>\n",
       "      <th>3</th>\n",
       "      <td>100.639612</td>\n",
       "      <td>108.003068</td>\n",
       "      <td>1.545543e-03</td>\n",
       "    </tr>\n",
       "    <tr>\n",
       "      <th>4</th>\n",
       "      <td>101.617789</td>\n",
       "      <td>107.439654</td>\n",
       "      <td>3.514957e-03</td>\n",
       "    </tr>\n",
       "    <tr>\n",
       "      <th>5</th>\n",
       "      <td>100.767346</td>\n",
       "      <td>106.897501</td>\n",
       "      <td>5.578097e-04</td>\n",
       "    </tr>\n",
       "    <tr>\n",
       "      <th>6</th>\n",
       "      <td>101.072751</td>\n",
       "      <td>106.840067</td>\n",
       "      <td>3.465117e-04</td>\n",
       "    </tr>\n",
       "    <tr>\n",
       "      <th>7</th>\n",
       "      <td>100.908030</td>\n",
       "      <td>105.780751</td>\n",
       "      <td>1.186720e-03</td>\n",
       "    </tr>\n",
       "    <tr>\n",
       "      <th>8</th>\n",
       "      <td>101.265040</td>\n",
       "      <td>105.903427</td>\n",
       "      <td>1.089965e-03</td>\n",
       "    </tr>\n",
       "    <tr>\n",
       "      <th>9</th>\n",
       "      <td>100.985334</td>\n",
       "      <td>105.531640</td>\n",
       "      <td>6.691089e-04</td>\n",
       "    </tr>\n",
       "    <tr>\n",
       "      <th>10</th>\n",
       "      <td>100.567155</td>\n",
       "      <td>104.974657</td>\n",
       "      <td>5.046793e-04</td>\n",
       "    </tr>\n",
       "    <tr>\n",
       "      <th>11</th>\n",
       "      <td>100.480631</td>\n",
       "      <td>104.780089</td>\n",
       "      <td>3.628842e-04</td>\n",
       "    </tr>\n",
       "    <tr>\n",
       "      <th>12</th>\n",
       "      <td>100.518088</td>\n",
       "      <td>104.786575</td>\n",
       "      <td>2.153580e-04</td>\n",
       "    </tr>\n",
       "    <tr>\n",
       "      <th>13</th>\n",
       "      <td>100.351460</td>\n",
       "      <td>104.711078</td>\n",
       "      <td>8.187517e-05</td>\n",
       "    </tr>\n",
       "    <tr>\n",
       "      <th>14</th>\n",
       "      <td>100.140554</td>\n",
       "      <td>104.463055</td>\n",
       "      <td>5.450802e-05</td>\n",
       "    </tr>\n",
       "    <tr>\n",
       "      <th>15</th>\n",
       "      <td>100.204930</td>\n",
       "      <td>104.524918</td>\n",
       "      <td>2.955735e-05</td>\n",
       "    </tr>\n",
       "    <tr>\n",
       "      <th>16</th>\n",
       "      <td>99.988642</td>\n",
       "      <td>104.501132</td>\n",
       "      <td>6.817938e-06</td>\n",
       "    </tr>\n",
       "    <tr>\n",
       "      <th>17</th>\n",
       "      <td>99.811830</td>\n",
       "      <td>104.522748</td>\n",
       "      <td>1.419214e-06</td>\n",
       "    </tr>\n",
       "    <tr>\n",
       "      <th>18</th>\n",
       "      <td>99.959037</td>\n",
       "      <td>104.367303</td>\n",
       "      <td>3.622387e-06</td>\n",
       "    </tr>\n",
       "    <tr>\n",
       "      <th>19</th>\n",
       "      <td>100.016032</td>\n",
       "      <td>104.597790</td>\n",
       "      <td>7.785263e-07</td>\n",
       "    </tr>\n",
       "    <tr>\n",
       "      <th>20</th>\n",
       "      <td>99.954829</td>\n",
       "      <td>104.698397</td>\n",
       "      <td>1.691250e-07</td>\n",
       "    </tr>\n",
       "    <tr>\n",
       "      <th>21</th>\n",
       "      <td>99.969452</td>\n",
       "      <td>104.899908</td>\n",
       "      <td>2.521057e-08</td>\n",
       "    </tr>\n",
       "    <tr>\n",
       "      <th>22</th>\n",
       "      <td>99.928769</td>\n",
       "      <td>104.997244</td>\n",
       "      <td>3.955773e-09</td>\n",
       "    </tr>\n",
       "    <tr>\n",
       "      <th>23</th>\n",
       "      <td>99.835213</td>\n",
       "      <td>104.990493</td>\n",
       "      <td>8.832652e-10</td>\n",
       "    </tr>\n",
       "    <tr>\n",
       "      <th>24</th>\n",
       "      <td>99.764602</td>\n",
       "      <td>104.982237</td>\n",
       "      <td>2.157119e-10</td>\n",
       "    </tr>\n",
       "    <tr>\n",
       "      <th>25</th>\n",
       "      <td>99.710657</td>\n",
       "      <td>105.026449</td>\n",
       "      <td>3.855497e-11</td>\n",
       "    </tr>\n",
       "    <tr>\n",
       "      <th>26</th>\n",
       "      <td>99.659381</td>\n",
       "      <td>104.952128</td>\n",
       "      <td>1.936687e-11</td>\n",
       "    </tr>\n",
       "    <tr>\n",
       "      <th>27</th>\n",
       "      <td>99.525449</td>\n",
       "      <td>104.914523</td>\n",
       "      <td>2.934461e-12</td>\n",
       "    </tr>\n",
       "    <tr>\n",
       "      <th>28</th>\n",
       "      <td>99.573096</td>\n",
       "      <td>104.934313</td>\n",
       "      <td>1.472973e-12</td>\n",
       "    </tr>\n",
       "    <tr>\n",
       "      <th>29</th>\n",
       "      <td>99.623824</td>\n",
       "      <td>104.814234</td>\n",
       "      <td>3.437350e-12</td>\n",
       "    </tr>\n",
       "    <tr>\n",
       "      <th>30</th>\n",
       "      <td>99.736925</td>\n",
       "      <td>104.877894</td>\n",
       "      <td>2.196738e-12</td>\n",
       "    </tr>\n",
       "    <tr>\n",
       "      <th>31</th>\n",
       "      <td>99.642380</td>\n",
       "      <td>104.997388</td>\n",
       "      <td>9.995147e-14</td>\n",
       "    </tr>\n",
       "    <tr>\n",
       "      <th>32</th>\n",
       "      <td>99.547842</td>\n",
       "      <td>105.146210</td>\n",
       "      <td>2.824251e-15</td>\n",
       "    </tr>\n",
       "    <tr>\n",
       "      <th>33</th>\n",
       "      <td>99.636007</td>\n",
       "      <td>105.145392</td>\n",
       "      <td>2.926814e-15</td>\n",
       "    </tr>\n",
       "    <tr>\n",
       "      <th>34</th>\n",
       "      <td>99.694098</td>\n",
       "      <td>105.254242</td>\n",
       "      <td>6.832003e-16</td>\n",
       "    </tr>\n",
       "    <tr>\n",
       "      <th>35</th>\n",
       "      <td>99.681414</td>\n",
       "      <td>105.352023</td>\n",
       "      <td>6.772277e-17</td>\n",
       "    </tr>\n",
       "    <tr>\n",
       "      <th>36</th>\n",
       "      <td>99.591240</td>\n",
       "      <td>105.422269</td>\n",
       "      <td>3.299252e-18</td>\n",
       "    </tr>\n",
       "    <tr>\n",
       "      <th>37</th>\n",
       "      <td>99.710147</td>\n",
       "      <td>105.332390</td>\n",
       "      <td>1.686519e-17</td>\n",
       "    </tr>\n",
       "    <tr>\n",
       "      <th>38</th>\n",
       "      <td>99.682982</td>\n",
       "      <td>105.316628</td>\n",
       "      <td>5.839436e-18</td>\n",
       "    </tr>\n",
       "    <tr>\n",
       "      <th>39</th>\n",
       "      <td>99.658932</td>\n",
       "      <td>105.418811</td>\n",
       "      <td>3.795398e-19</td>\n",
       "    </tr>\n",
       "    <tr>\n",
       "      <th>40</th>\n",
       "      <td>99.700664</td>\n",
       "      <td>105.373120</td>\n",
       "      <td>4.619995e-19</td>\n",
       "    </tr>\n",
       "    <tr>\n",
       "      <th>41</th>\n",
       "      <td>99.759700</td>\n",
       "      <td>105.394739</td>\n",
       "      <td>2.813084e-19</td>\n",
       "    </tr>\n",
       "    <tr>\n",
       "      <th>42</th>\n",
       "      <td>99.828316</td>\n",
       "      <td>105.384795</td>\n",
       "      <td>3.137886e-19</td>\n",
       "    </tr>\n",
       "    <tr>\n",
       "      <th>43</th>\n",
       "      <td>99.952187</td>\n",
       "      <td>105.393781</td>\n",
       "      <td>6.727818e-19</td>\n",
       "    </tr>\n",
       "    <tr>\n",
       "      <th>44</th>\n",
       "      <td>100.021238</td>\n",
       "      <td>105.328659</td>\n",
       "      <td>1.960562e-18</td>\n",
       "    </tr>\n",
       "    <tr>\n",
       "      <th>45</th>\n",
       "      <td>100.059943</td>\n",
       "      <td>105.352303</td>\n",
       "      <td>1.001056e-18</td>\n",
       "    </tr>\n",
       "    <tr>\n",
       "      <th>46</th>\n",
       "      <td>100.073321</td>\n",
       "      <td>105.295863</td>\n",
       "      <td>1.163922e-18</td>\n",
       "    </tr>\n",
       "    <tr>\n",
       "      <th>47</th>\n",
       "      <td>100.021422</td>\n",
       "      <td>105.324359</td>\n",
       "      <td>1.462559e-19</td>\n",
       "    </tr>\n",
       "    <tr>\n",
       "      <th>48</th>\n",
       "      <td>100.089356</td>\n",
       "      <td>105.313935</td>\n",
       "      <td>2.051901e-19</td>\n",
       "    </tr>\n",
       "    <tr>\n",
       "      <th>49</th>\n",
       "      <td>100.118264</td>\n",
       "      <td>105.310150</td>\n",
       "      <td>1.456951e-19</td>\n",
       "    </tr>\n",
       "    <tr>\n",
       "      <th>50</th>\n",
       "      <td>100.085465</td>\n",
       "      <td>105.272984</td>\n",
       "      <td>7.277778e-20</td>\n",
       "    </tr>\n",
       "  </tbody>\n",
       "</table>\n",
       "</div>"
      ],
      "text/plain": [
       "        mean_A      mean_B       p-value\n",
       "1    96.573799  105.358666  2.975401e-02\n",
       "2   100.851928  107.851993  1.381132e-02\n",
       "3   100.639612  108.003068  1.545543e-03\n",
       "4   101.617789  107.439654  3.514957e-03\n",
       "5   100.767346  106.897501  5.578097e-04\n",
       "6   101.072751  106.840067  3.465117e-04\n",
       "7   100.908030  105.780751  1.186720e-03\n",
       "8   101.265040  105.903427  1.089965e-03\n",
       "9   100.985334  105.531640  6.691089e-04\n",
       "10  100.567155  104.974657  5.046793e-04\n",
       "11  100.480631  104.780089  3.628842e-04\n",
       "12  100.518088  104.786575  2.153580e-04\n",
       "13  100.351460  104.711078  8.187517e-05\n",
       "14  100.140554  104.463055  5.450802e-05\n",
       "15  100.204930  104.524918  2.955735e-05\n",
       "16   99.988642  104.501132  6.817938e-06\n",
       "17   99.811830  104.522748  1.419214e-06\n",
       "18   99.959037  104.367303  3.622387e-06\n",
       "19  100.016032  104.597790  7.785263e-07\n",
       "20   99.954829  104.698397  1.691250e-07\n",
       "21   99.969452  104.899908  2.521057e-08\n",
       "22   99.928769  104.997244  3.955773e-09\n",
       "23   99.835213  104.990493  8.832652e-10\n",
       "24   99.764602  104.982237  2.157119e-10\n",
       "25   99.710657  105.026449  3.855497e-11\n",
       "26   99.659381  104.952128  1.936687e-11\n",
       "27   99.525449  104.914523  2.934461e-12\n",
       "28   99.573096  104.934313  1.472973e-12\n",
       "29   99.623824  104.814234  3.437350e-12\n",
       "30   99.736925  104.877894  2.196738e-12\n",
       "31   99.642380  104.997388  9.995147e-14\n",
       "32   99.547842  105.146210  2.824251e-15\n",
       "33   99.636007  105.145392  2.926814e-15\n",
       "34   99.694098  105.254242  6.832003e-16\n",
       "35   99.681414  105.352023  6.772277e-17\n",
       "36   99.591240  105.422269  3.299252e-18\n",
       "37   99.710147  105.332390  1.686519e-17\n",
       "38   99.682982  105.316628  5.839436e-18\n",
       "39   99.658932  105.418811  3.795398e-19\n",
       "40   99.700664  105.373120  4.619995e-19\n",
       "41   99.759700  105.394739  2.813084e-19\n",
       "42   99.828316  105.384795  3.137886e-19\n",
       "43   99.952187  105.393781  6.727818e-19\n",
       "44  100.021238  105.328659  1.960562e-18\n",
       "45  100.059943  105.352303  1.001056e-18\n",
       "46  100.073321  105.295863  1.163922e-18\n",
       "47  100.021422  105.324359  1.462559e-19\n",
       "48  100.089356  105.313935  2.051901e-19\n",
       "49  100.118264  105.310150  1.456951e-19\n",
       "50  100.085465  105.272984  7.277778e-20"
      ]
     },
     "execution_count": 423,
     "metadata": {},
     "output_type": "execute_result"
    }
   ],
   "source": [
    "df"
   ]
  },
  {
   "cell_type": "markdown",
   "id": "aedfd4f4",
   "metadata": {},
   "source": [
    "3. На основе `DataFrame` из предыдущего пункта постройте график динамики среднего в группе А и в группе Б по дням теста. Отложите вертикальную линию на этом же графике, показывающую кол-во дней, посчитанных в пункте 1. Сделайте эту линию пунктирной и измените цвет, который вам больше нравится."
   ]
  },
  {
   "cell_type": "code",
   "execution_count": 425,
   "id": "114e2bea",
   "metadata": {
    "scrolled": true
   },
   "outputs": [
    {
     "data": {
      "image/png": "[encoded data removed]",
      "text/plain": [
       "<Figure size 576x288 with 1 Axes>"
      ]
     },
     "metadata": {},
     "output_type": "display_data"
    }
   ],
   "source": [
    "plt.plot(df.index, df.mean_A, label = 'mean_A')\n",
    "plt.plot(df.index, df.mean_B, label = 'mean_B')\n",
    "plt.axvline(x=11, color = 'green', linestyle='dashed')\n",
    "plt.xlabel(\"Номер дня\")\n",
    "plt.ylabel('Кумулятивное среднее')\n",
    "plt.title(\"График зависимости среднего по группам от количества дней\")\n",
    "plt.legend()\n",
    "plt.show()"
   ]
  },
  {
   "cell_type": "markdown",
   "id": "62a51a4c",
   "metadata": {},
   "source": [
    "4. На основе `DataFrame` из предыдущего пункта постройте график динамики p-value по дням теста. Отложите вертикальную линию на этом же графике, показывающую кол-во дней, посчитанных в пункте 1. Сделайте эту линию пунктирной и измените цвет, который вам больше нравится. Также отложите горизонтальную линию – ваш уровень значимости $\\alpha$."
   ]
  },
  {
   "cell_type": "code",
   "execution_count": 427,
   "id": "c20bdf7d",
   "metadata": {},
   "outputs": [
    {
     "data": {
      "image/png": "[encoded data removed]",
      "text/plain": [
       "<Figure size 576x288 with 1 Axes>"
      ]
     },
     "metadata": {},
     "output_type": "display_data"
    }
   ],
   "source": [
    "plt.plot(df.index, df['p-value'], label = 'p-value')\n",
    "\n",
    "plt.axvline(x=11, color = 'green', linestyle='dashed')\n",
    "plt.axhline(y=0.5, color='r', linestyle='dashed', label = 'alpha')\n",
    "plt.xlabel(\"Номер дня\")\n",
    "plt.ylabel('Кумулятивное p-value')\n",
    "plt.title(\"График зависимости кумулятивного p-value по группам от количества дней\")\n",
    "plt.legend()\n",
    "plt.show()"
   ]
  },
  {
   "cell_type": "markdown",
   "id": "1657ea1b",
   "metadata": {},
   "source": [
    "5. Перегенируруйте шаги 2-4 несколько раз, посмотрев на графики. Что вы видите? Что происходит с p-value в периодах:\n",
    "    1. до кол-ва дней, посчитанных по формуле из п.1\n",
    "    2. в точке кол-ва дней, посчитанных по формуле из п.1\n",
    "    3. после кол-ва дней, посчитанных по формуле из п.1\n",
    "    \n",
    "    Опишите выводы максимально подробно."
   ]
  },
  {
   "cell_type": "markdown",
   "id": "642a4058",
   "metadata": {},
   "source": [
    "* a) До кол-ва дней из п.1 видны колебания p-value, которые совершенно исчезают к 11 дню А\\Б-теста.\n",
    "* б) В точке 11 дня значение p-value стремится к 0.\n",
    "* с) После точки в 11 дней также видно уменьшение p-value и стремление к 0.\n",
    "\n",
    "То есть с ростом кол-ва наблюдений p-value снижается и стремится все больше к 0, следовательно, гипотеза, как ни странно, о равенстве МО А и Б отвергается на уровне значимости 5%.\n",
    "\n",
    "Важно заметить, что если рассматривать первые пару дней теста, то можно сделать вывод о том, что гипотеза не отвергается на уровне значимости 1%, но это не является достоверным результатом А\\Б-теста, так как кол-во дней не достаточное."
   ]
  },
  {
   "cell_type": "markdown",
   "id": "a2b91aad",
   "metadata": {},
   "source": [
    "6. Теперь предположим, что мы поменяли наш $MDE$ до $1$ у.е. То есть мат. ожидание в группе А осталось по-прежнему $100$, а вот в группе Б теперь $101$. Перегенерируйте пункты 2-4 для измененного $MDE$, при этом кол-во дней в п.1 не пересчитывайте. Что происходит с p-value? Сделайте выводы."
   ]
  },
  {
   "cell_type": "code",
   "execution_count": 428,
   "id": "38ee50b2",
   "metadata": {
    "scrolled": true
   },
   "outputs": [
    {
     "data": {
      "text/html": [
       "<div>\n",
       "<style scoped>\n",
       "    .dataframe tbody tr th:only-of-type {\n",
       "        vertical-align: middle;\n",
       "    }\n",
       "\n",
       "    .dataframe tbody tr th {\n",
       "        vertical-align: top;\n",
       "    }\n",
       "\n",
       "    .dataframe thead th {\n",
       "        text-align: right;\n",
       "    }\n",
       "</style>\n",
       "<table border=\"1\" class=\"dataframe\">\n",
       "  <thead>\n",
       "    <tr style=\"text-align: right;\">\n",
       "      <th></th>\n",
       "      <th>mean_A</th>\n",
       "      <th>mean_B</th>\n",
       "      <th>p-value</th>\n",
       "    </tr>\n",
       "  </thead>\n",
       "  <tbody>\n",
       "    <tr>\n",
       "      <th>1</th>\n",
       "      <td>96.536573</td>\n",
       "      <td>99.445772</td>\n",
       "      <td>0.464262</td>\n",
       "    </tr>\n",
       "    <tr>\n",
       "      <th>2</th>\n",
       "      <td>98.387261</td>\n",
       "      <td>101.991900</td>\n",
       "      <td>0.202222</td>\n",
       "    </tr>\n",
       "    <tr>\n",
       "      <th>3</th>\n",
       "      <td>98.696319</td>\n",
       "      <td>101.484224</td>\n",
       "      <td>0.224127</td>\n",
       "    </tr>\n",
       "    <tr>\n",
       "      <th>4</th>\n",
       "      <td>99.572836</td>\n",
       "      <td>102.290764</td>\n",
       "      <td>0.167637</td>\n",
       "    </tr>\n",
       "    <tr>\n",
       "      <th>5</th>\n",
       "      <td>98.943658</td>\n",
       "      <td>100.099062</td>\n",
       "      <td>0.512168</td>\n",
       "    </tr>\n",
       "    <tr>\n",
       "      <th>6</th>\n",
       "      <td>99.750439</td>\n",
       "      <td>99.560299</td>\n",
       "      <td>0.906732</td>\n",
       "    </tr>\n",
       "    <tr>\n",
       "      <th>7</th>\n",
       "      <td>100.027176</td>\n",
       "      <td>99.392768</td>\n",
       "      <td>0.673282</td>\n",
       "    </tr>\n",
       "    <tr>\n",
       "      <th>8</th>\n",
       "      <td>100.125149</td>\n",
       "      <td>99.965807</td>\n",
       "      <td>0.909789</td>\n",
       "    </tr>\n",
       "    <tr>\n",
       "      <th>9</th>\n",
       "      <td>99.817398</td>\n",
       "      <td>99.988569</td>\n",
       "      <td>0.896401</td>\n",
       "    </tr>\n",
       "    <tr>\n",
       "      <th>10</th>\n",
       "      <td>100.171277</td>\n",
       "      <td>99.691568</td>\n",
       "      <td>0.699639</td>\n",
       "    </tr>\n",
       "    <tr>\n",
       "      <th>11</th>\n",
       "      <td>100.197238</td>\n",
       "      <td>99.439700</td>\n",
       "      <td>0.520442</td>\n",
       "    </tr>\n",
       "    <tr>\n",
       "      <th>12</th>\n",
       "      <td>100.156733</td>\n",
       "      <td>99.293991</td>\n",
       "      <td>0.443267</td>\n",
       "    </tr>\n",
       "    <tr>\n",
       "      <th>13</th>\n",
       "      <td>100.063556</td>\n",
       "      <td>99.826078</td>\n",
       "      <td>0.826435</td>\n",
       "    </tr>\n",
       "    <tr>\n",
       "      <th>14</th>\n",
       "      <td>100.206808</td>\n",
       "      <td>99.875667</td>\n",
       "      <td>0.751499</td>\n",
       "    </tr>\n",
       "    <tr>\n",
       "      <th>15</th>\n",
       "      <td>100.404103</td>\n",
       "      <td>100.130248</td>\n",
       "      <td>0.786266</td>\n",
       "    </tr>\n",
       "    <tr>\n",
       "      <th>16</th>\n",
       "      <td>100.523894</td>\n",
       "      <td>100.360074</td>\n",
       "      <td>0.867267</td>\n",
       "    </tr>\n",
       "    <tr>\n",
       "      <th>17</th>\n",
       "      <td>100.383209</td>\n",
       "      <td>100.026183</td>\n",
       "      <td>0.707922</td>\n",
       "    </tr>\n",
       "    <tr>\n",
       "      <th>18</th>\n",
       "      <td>100.286209</td>\n",
       "      <td>100.232876</td>\n",
       "      <td>0.954228</td>\n",
       "    </tr>\n",
       "    <tr>\n",
       "      <th>19</th>\n",
       "      <td>100.279326</td>\n",
       "      <td>100.322782</td>\n",
       "      <td>0.961684</td>\n",
       "    </tr>\n",
       "    <tr>\n",
       "      <th>20</th>\n",
       "      <td>100.178820</td>\n",
       "      <td>100.193958</td>\n",
       "      <td>0.986298</td>\n",
       "    </tr>\n",
       "    <tr>\n",
       "      <th>21</th>\n",
       "      <td>100.092519</td>\n",
       "      <td>100.074012</td>\n",
       "      <td>0.982867</td>\n",
       "    </tr>\n",
       "    <tr>\n",
       "      <th>22</th>\n",
       "      <td>99.853961</td>\n",
       "      <td>100.098009</td>\n",
       "      <td>0.771704</td>\n",
       "    </tr>\n",
       "    <tr>\n",
       "      <th>23</th>\n",
       "      <td>99.966553</td>\n",
       "      <td>100.051733</td>\n",
       "      <td>0.917711</td>\n",
       "    </tr>\n",
       "    <tr>\n",
       "      <th>24</th>\n",
       "      <td>100.027710</td>\n",
       "      <td>100.061634</td>\n",
       "      <td>0.966489</td>\n",
       "    </tr>\n",
       "    <tr>\n",
       "      <th>25</th>\n",
       "      <td>100.037870</td>\n",
       "      <td>100.159885</td>\n",
       "      <td>0.877373</td>\n",
       "    </tr>\n",
       "    <tr>\n",
       "      <th>26</th>\n",
       "      <td>100.131415</td>\n",
       "      <td>100.177295</td>\n",
       "      <td>0.952954</td>\n",
       "    </tr>\n",
       "    <tr>\n",
       "      <th>27</th>\n",
       "      <td>100.193291</td>\n",
       "      <td>100.306342</td>\n",
       "      <td>0.882391</td>\n",
       "    </tr>\n",
       "    <tr>\n",
       "      <th>28</th>\n",
       "      <td>100.166655</td>\n",
       "      <td>100.166790</td>\n",
       "      <td>0.999856</td>\n",
       "    </tr>\n",
       "    <tr>\n",
       "      <th>29</th>\n",
       "      <td>100.140528</td>\n",
       "      <td>100.156738</td>\n",
       "      <td>0.982443</td>\n",
       "    </tr>\n",
       "    <tr>\n",
       "      <th>30</th>\n",
       "      <td>99.874498</td>\n",
       "      <td>100.098292</td>\n",
       "      <td>0.757830</td>\n",
       "    </tr>\n",
       "    <tr>\n",
       "      <th>31</th>\n",
       "      <td>99.871279</td>\n",
       "      <td>100.189321</td>\n",
       "      <td>0.656645</td>\n",
       "    </tr>\n",
       "    <tr>\n",
       "      <th>32</th>\n",
       "      <td>99.876891</td>\n",
       "      <td>100.318250</td>\n",
       "      <td>0.531023</td>\n",
       "    </tr>\n",
       "    <tr>\n",
       "      <th>33</th>\n",
       "      <td>100.021512</td>\n",
       "      <td>100.363184</td>\n",
       "      <td>0.622515</td>\n",
       "    </tr>\n",
       "    <tr>\n",
       "      <th>34</th>\n",
       "      <td>99.984257</td>\n",
       "      <td>100.380608</td>\n",
       "      <td>0.563210</td>\n",
       "    </tr>\n",
       "    <tr>\n",
       "      <th>35</th>\n",
       "      <td>99.962009</td>\n",
       "      <td>100.280178</td>\n",
       "      <td>0.637844</td>\n",
       "    </tr>\n",
       "    <tr>\n",
       "      <th>36</th>\n",
       "      <td>99.920419</td>\n",
       "      <td>100.284152</td>\n",
       "      <td>0.585898</td>\n",
       "    </tr>\n",
       "    <tr>\n",
       "      <th>37</th>\n",
       "      <td>99.810497</td>\n",
       "      <td>100.178218</td>\n",
       "      <td>0.576661</td>\n",
       "    </tr>\n",
       "    <tr>\n",
       "      <th>38</th>\n",
       "      <td>99.668001</td>\n",
       "      <td>100.228057</td>\n",
       "      <td>0.388664</td>\n",
       "    </tr>\n",
       "    <tr>\n",
       "      <th>39</th>\n",
       "      <td>99.647919</td>\n",
       "      <td>100.272678</td>\n",
       "      <td>0.330029</td>\n",
       "    </tr>\n",
       "    <tr>\n",
       "      <th>40</th>\n",
       "      <td>99.726678</td>\n",
       "      <td>100.224885</td>\n",
       "      <td>0.431305</td>\n",
       "    </tr>\n",
       "    <tr>\n",
       "      <th>41</th>\n",
       "      <td>99.780782</td>\n",
       "      <td>100.290985</td>\n",
       "      <td>0.414131</td>\n",
       "    </tr>\n",
       "    <tr>\n",
       "      <th>42</th>\n",
       "      <td>99.742695</td>\n",
       "      <td>100.264561</td>\n",
       "      <td>0.397720</td>\n",
       "    </tr>\n",
       "    <tr>\n",
       "      <th>43</th>\n",
       "      <td>99.752345</td>\n",
       "      <td>100.267129</td>\n",
       "      <td>0.397695</td>\n",
       "    </tr>\n",
       "    <tr>\n",
       "      <th>44</th>\n",
       "      <td>99.631699</td>\n",
       "      <td>100.173617</td>\n",
       "      <td>0.367400</td>\n",
       "    </tr>\n",
       "    <tr>\n",
       "      <th>45</th>\n",
       "      <td>99.589328</td>\n",
       "      <td>100.136516</td>\n",
       "      <td>0.356928</td>\n",
       "    </tr>\n",
       "    <tr>\n",
       "      <th>46</th>\n",
       "      <td>99.693066</td>\n",
       "      <td>100.209770</td>\n",
       "      <td>0.379357</td>\n",
       "    </tr>\n",
       "    <tr>\n",
       "      <th>47</th>\n",
       "      <td>99.737978</td>\n",
       "      <td>100.255192</td>\n",
       "      <td>0.373876</td>\n",
       "    </tr>\n",
       "    <tr>\n",
       "      <th>48</th>\n",
       "      <td>99.742369</td>\n",
       "      <td>100.237681</td>\n",
       "      <td>0.389413</td>\n",
       "    </tr>\n",
       "    <tr>\n",
       "      <th>49</th>\n",
       "      <td>99.842234</td>\n",
       "      <td>100.402690</td>\n",
       "      <td>0.325195</td>\n",
       "    </tr>\n",
       "    <tr>\n",
       "      <th>50</th>\n",
       "      <td>99.873972</td>\n",
       "      <td>100.333193</td>\n",
       "      <td>0.415415</td>\n",
       "    </tr>\n",
       "  </tbody>\n",
       "</table>\n",
       "</div>"
      ],
      "text/plain": [
       "        mean_A      mean_B   p-value\n",
       "1    96.536573   99.445772  0.464262\n",
       "2    98.387261  101.991900  0.202222\n",
       "3    98.696319  101.484224  0.224127\n",
       "4    99.572836  102.290764  0.167637\n",
       "5    98.943658  100.099062  0.512168\n",
       "6    99.750439   99.560299  0.906732\n",
       "7   100.027176   99.392768  0.673282\n",
       "8   100.125149   99.965807  0.909789\n",
       "9    99.817398   99.988569  0.896401\n",
       "10  100.171277   99.691568  0.699639\n",
       "11  100.197238   99.439700  0.520442\n",
       "12  100.156733   99.293991  0.443267\n",
       "13  100.063556   99.826078  0.826435\n",
       "14  100.206808   99.875667  0.751499\n",
       "15  100.404103  100.130248  0.786266\n",
       "16  100.523894  100.360074  0.867267\n",
       "17  100.383209  100.026183  0.707922\n",
       "18  100.286209  100.232876  0.954228\n",
       "19  100.279326  100.322782  0.961684\n",
       "20  100.178820  100.193958  0.986298\n",
       "21  100.092519  100.074012  0.982867\n",
       "22   99.853961  100.098009  0.771704\n",
       "23   99.966553  100.051733  0.917711\n",
       "24  100.027710  100.061634  0.966489\n",
       "25  100.037870  100.159885  0.877373\n",
       "26  100.131415  100.177295  0.952954\n",
       "27  100.193291  100.306342  0.882391\n",
       "28  100.166655  100.166790  0.999856\n",
       "29  100.140528  100.156738  0.982443\n",
       "30   99.874498  100.098292  0.757830\n",
       "31   99.871279  100.189321  0.656645\n",
       "32   99.876891  100.318250  0.531023\n",
       "33  100.021512  100.363184  0.622515\n",
       "34   99.984257  100.380608  0.563210\n",
       "35   99.962009  100.280178  0.637844\n",
       "36   99.920419  100.284152  0.585898\n",
       "37   99.810497  100.178218  0.576661\n",
       "38   99.668001  100.228057  0.388664\n",
       "39   99.647919  100.272678  0.330029\n",
       "40   99.726678  100.224885  0.431305\n",
       "41   99.780782  100.290985  0.414131\n",
       "42   99.742695  100.264561  0.397720\n",
       "43   99.752345  100.267129  0.397695\n",
       "44   99.631699  100.173617  0.367400\n",
       "45   99.589328  100.136516  0.356928\n",
       "46   99.693066  100.209770  0.379357\n",
       "47   99.737978  100.255192  0.373876\n",
       "48   99.742369  100.237681  0.389413\n",
       "49   99.842234  100.402690  0.325195\n",
       "50   99.873972  100.333193  0.415415"
      ]
     },
     "execution_count": 428,
     "metadata": {},
     "output_type": "execute_result"
    }
   ],
   "source": [
    "df_1 = pd.DataFrame()\n",
    "df_1['mean_A'] = np.zeros(50)\n",
    "df_1['mean_B'] = np.zeros(50)\n",
    "df_1['p-value'] = np.zeros(50)\n",
    "\n",
    "A = np.array([])\n",
    "B = np.array([])\n",
    "for i in range(50):\n",
    "    #print(a)\n",
    "    #print(b)\n",
    "    a = np.random.normal(100, 40, 200)\n",
    "    b = np.random.normal(101, 40, 200)\n",
    "    A = np.append(A, a)\n",
    "    B = np.append(B, b)\n",
    "    #print(A)\n",
    "    df_1['mean_A'][i] = A.mean()\n",
    "    df_1['mean_B'][i] = B.mean()\n",
    "    df_1['p-value'][i] = sts.ttest_ind(A, B)[1]\n",
    "    #print(a.mean(), b.mean(), sts.ttest_ind(a, b)[1])\n",
    "    \n",
    "df_1.index = np.arange(1, 51)\n",
    "df_1"
   ]
  },
  {
   "cell_type": "code",
   "execution_count": 429,
   "id": "ae3a4788",
   "metadata": {
    "scrolled": true
   },
   "outputs": [
    {
     "data": {
      "image/png": "[encoded data removed]",
      "text/plain": [
       "<Figure size 576x288 with 1 Axes>"
      ]
     },
     "metadata": {},
     "output_type": "display_data"
    }
   ],
   "source": [
    "plt.plot(df_1.index, df_1.mean_A, label = 'mean_A')\n",
    "plt.plot(df_1.index, df_1.mean_B, label = 'mean_B')\n",
    "plt.axvline(x=11, color = 'green', linestyle='dashed')\n",
    "plt.xlabel(\"Номер дня\")\n",
    "plt.ylabel('Кумулятивное среднее')\n",
    "plt.title(\"График зависимости среднего по группам от количества дней\")\n",
    "plt.legend()\n",
    "plt.show()"
   ]
  },
  {
   "cell_type": "markdown",
   "id": "e7ce52a1",
   "metadata": {},
   "source": [
    "Здесь видим, что также, как и в предыдущем номере, при увеличении кол-ва наблюдений колебания становятся меньше, а среднее ближе к истинному мат ожиданию."
   ]
  },
  {
   "cell_type": "code",
   "execution_count": 430,
   "id": "3cba01f1",
   "metadata": {
    "scrolled": true
   },
   "outputs": [
    {
     "data": {
      "image/png": "[encoded data removed]",
      "text/plain": [
       "<Figure size 576x288 with 1 Axes>"
      ]
     },
     "metadata": {},
     "output_type": "display_data"
    }
   ],
   "source": [
    "plt.plot(df_1.index, df_1['p-value'], label='p-value')\n",
    "plt.axvline(x=11, color = 'green', linestyle='dashed')\n",
    "plt.axhline(y=0.5, color='r', linestyle='dashed', label='alpha')\n",
    "plt.xlabel(\"Номер дня\")\n",
    "plt.ylabel('Кумулятивное p-value')\n",
    "plt.title(\"График зависимости p-value от количества дней (кол-ва наблюдений)\")\n",
    "plt.legend()\n",
    "plt.show()"
   ]
  },
  {
   "cell_type": "markdown",
   "id": "249d35b6",
   "metadata": {},
   "source": [
    "Здесь кумулятивное p-value колеблется значительно дольше, чем ы предыдущем эксперименте, потому что там более выражено различие между МО групп. Здесь же оно составляет 1, поэтому чтобы более достоверно определить, какая гипотеза верна, А\\Б-тест придется делать дольше, чем 11 дней. "
   ]
  },
  {
   "cell_type": "markdown",
   "id": "74d1f4d0",
   "metadata": {},
   "source": [
    "__с) [20баллов] Симуляция А/А-теста__\n",
    "\n",
    "Теперь представим, что изменений на самом деле никаких нету, то есть мат. ожидание в обоих группах $100$, а $MDE = 0$"
   ]
  },
  {
   "cell_type": "markdown",
   "id": "4bf10a71",
   "metadata": {},
   "source": [
    "1. И снова перегенерируйте вышесделанные пункты 2-4. Что происходит с p-value? Может ли оно оказаться ниже уровня значимости? "
   ]
  },
  {
   "cell_type": "code",
   "execution_count": 431,
   "id": "c970d771",
   "metadata": {
    "scrolled": false
   },
   "outputs": [
    {
     "data": {
      "text/html": [
       "<div>\n",
       "<style scoped>\n",
       "    .dataframe tbody tr th:only-of-type {\n",
       "        vertical-align: middle;\n",
       "    }\n",
       "\n",
       "    .dataframe tbody tr th {\n",
       "        vertical-align: top;\n",
       "    }\n",
       "\n",
       "    .dataframe thead th {\n",
       "        text-align: right;\n",
       "    }\n",
       "</style>\n",
       "<table border=\"1\" class=\"dataframe\">\n",
       "  <thead>\n",
       "    <tr style=\"text-align: right;\">\n",
       "      <th></th>\n",
       "      <th>mean_A</th>\n",
       "      <th>mean_B</th>\n",
       "      <th>p-value</th>\n",
       "    </tr>\n",
       "  </thead>\n",
       "  <tbody>\n",
       "    <tr>\n",
       "      <th>1</th>\n",
       "      <td>106.723666</td>\n",
       "      <td>99.258164</td>\n",
       "      <td>0.052016</td>\n",
       "    </tr>\n",
       "    <tr>\n",
       "      <th>2</th>\n",
       "      <td>104.528130</td>\n",
       "      <td>98.667967</td>\n",
       "      <td>0.034519</td>\n",
       "    </tr>\n",
       "    <tr>\n",
       "      <th>3</th>\n",
       "      <td>103.074197</td>\n",
       "      <td>99.787710</td>\n",
       "      <td>0.150111</td>\n",
       "    </tr>\n",
       "    <tr>\n",
       "      <th>4</th>\n",
       "      <td>103.579616</td>\n",
       "      <td>99.716655</td>\n",
       "      <td>0.054145</td>\n",
       "    </tr>\n",
       "    <tr>\n",
       "      <th>5</th>\n",
       "      <td>102.400881</td>\n",
       "      <td>100.235206</td>\n",
       "      <td>0.228111</td>\n",
       "    </tr>\n",
       "    <tr>\n",
       "      <th>6</th>\n",
       "      <td>102.357702</td>\n",
       "      <td>100.306418</td>\n",
       "      <td>0.216552</td>\n",
       "    </tr>\n",
       "    <tr>\n",
       "      <th>7</th>\n",
       "      <td>101.790779</td>\n",
       "      <td>100.401334</td>\n",
       "      <td>0.365502</td>\n",
       "    </tr>\n",
       "    <tr>\n",
       "      <th>8</th>\n",
       "      <td>101.774990</td>\n",
       "      <td>100.677035</td>\n",
       "      <td>0.443708</td>\n",
       "    </tr>\n",
       "    <tr>\n",
       "      <th>9</th>\n",
       "      <td>101.232412</td>\n",
       "      <td>100.594962</td>\n",
       "      <td>0.636377</td>\n",
       "    </tr>\n",
       "    <tr>\n",
       "      <th>10</th>\n",
       "      <td>101.486284</td>\n",
       "      <td>100.688098</td>\n",
       "      <td>0.527862</td>\n",
       "    </tr>\n",
       "    <tr>\n",
       "      <th>11</th>\n",
       "      <td>101.433507</td>\n",
       "      <td>100.705225</td>\n",
       "      <td>0.544061</td>\n",
       "    </tr>\n",
       "    <tr>\n",
       "      <th>12</th>\n",
       "      <td>101.071595</td>\n",
       "      <td>101.107225</td>\n",
       "      <td>0.975227</td>\n",
       "    </tr>\n",
       "    <tr>\n",
       "      <th>13</th>\n",
       "      <td>100.913294</td>\n",
       "      <td>100.669687</td>\n",
       "      <td>0.824985</td>\n",
       "    </tr>\n",
       "    <tr>\n",
       "      <th>14</th>\n",
       "      <td>100.994387</td>\n",
       "      <td>100.872659</td>\n",
       "      <td>0.908777</td>\n",
       "    </tr>\n",
       "    <tr>\n",
       "      <th>15</th>\n",
       "      <td>100.794184</td>\n",
       "      <td>100.776263</td>\n",
       "      <td>0.986044</td>\n",
       "    </tr>\n",
       "    <tr>\n",
       "      <th>16</th>\n",
       "      <td>100.733224</td>\n",
       "      <td>100.569170</td>\n",
       "      <td>0.869213</td>\n",
       "    </tr>\n",
       "    <tr>\n",
       "      <th>17</th>\n",
       "      <td>100.463947</td>\n",
       "      <td>100.405590</td>\n",
       "      <td>0.951762</td>\n",
       "    </tr>\n",
       "    <tr>\n",
       "      <th>18</th>\n",
       "      <td>100.029496</td>\n",
       "      <td>100.452449</td>\n",
       "      <td>0.652179</td>\n",
       "    </tr>\n",
       "    <tr>\n",
       "      <th>19</th>\n",
       "      <td>100.157049</td>\n",
       "      <td>100.189733</td>\n",
       "      <td>0.971525</td>\n",
       "    </tr>\n",
       "    <tr>\n",
       "      <th>20</th>\n",
       "      <td>100.419238</td>\n",
       "      <td>99.870204</td>\n",
       "      <td>0.538545</td>\n",
       "    </tr>\n",
       "    <tr>\n",
       "      <th>21</th>\n",
       "      <td>100.357666</td>\n",
       "      <td>100.032890</td>\n",
       "      <td>0.709813</td>\n",
       "    </tr>\n",
       "    <tr>\n",
       "      <th>22</th>\n",
       "      <td>100.328843</td>\n",
       "      <td>100.228217</td>\n",
       "      <td>0.906298</td>\n",
       "    </tr>\n",
       "    <tr>\n",
       "      <th>23</th>\n",
       "      <td>100.411315</td>\n",
       "      <td>100.324391</td>\n",
       "      <td>0.917148</td>\n",
       "    </tr>\n",
       "    <tr>\n",
       "      <th>24</th>\n",
       "      <td>100.232648</td>\n",
       "      <td>100.421787</td>\n",
       "      <td>0.816955</td>\n",
       "    </tr>\n",
       "    <tr>\n",
       "      <th>25</th>\n",
       "      <td>100.257191</td>\n",
       "      <td>100.380442</td>\n",
       "      <td>0.877733</td>\n",
       "    </tr>\n",
       "    <tr>\n",
       "      <th>26</th>\n",
       "      <td>100.253894</td>\n",
       "      <td>100.302255</td>\n",
       "      <td>0.950854</td>\n",
       "    </tr>\n",
       "    <tr>\n",
       "      <th>27</th>\n",
       "      <td>100.279054</td>\n",
       "      <td>100.245633</td>\n",
       "      <td>0.965364</td>\n",
       "    </tr>\n",
       "    <tr>\n",
       "      <th>28</th>\n",
       "      <td>100.261269</td>\n",
       "      <td>100.350241</td>\n",
       "      <td>0.906200</td>\n",
       "    </tr>\n",
       "    <tr>\n",
       "      <th>29</th>\n",
       "      <td>100.150316</td>\n",
       "      <td>100.329852</td>\n",
       "      <td>0.808706</td>\n",
       "    </tr>\n",
       "    <tr>\n",
       "      <th>30</th>\n",
       "      <td>100.206010</td>\n",
       "      <td>100.400735</td>\n",
       "      <td>0.788911</td>\n",
       "    </tr>\n",
       "    <tr>\n",
       "      <th>31</th>\n",
       "      <td>100.209784</td>\n",
       "      <td>100.331495</td>\n",
       "      <td>0.864899</td>\n",
       "    </tr>\n",
       "    <tr>\n",
       "      <th>32</th>\n",
       "      <td>100.263126</td>\n",
       "      <td>100.345525</td>\n",
       "      <td>0.907160</td>\n",
       "    </tr>\n",
       "    <tr>\n",
       "      <th>33</th>\n",
       "      <td>100.327636</td>\n",
       "      <td>100.329497</td>\n",
       "      <td>0.997870</td>\n",
       "    </tr>\n",
       "    <tr>\n",
       "      <th>34</th>\n",
       "      <td>100.171785</td>\n",
       "      <td>100.336811</td>\n",
       "      <td>0.810088</td>\n",
       "    </tr>\n",
       "    <tr>\n",
       "      <th>35</th>\n",
       "      <td>100.249595</td>\n",
       "      <td>100.296601</td>\n",
       "      <td>0.944668</td>\n",
       "    </tr>\n",
       "    <tr>\n",
       "      <th>36</th>\n",
       "      <td>100.280199</td>\n",
       "      <td>100.381519</td>\n",
       "      <td>0.879437</td>\n",
       "    </tr>\n",
       "    <tr>\n",
       "      <th>37</th>\n",
       "      <td>100.391952</td>\n",
       "      <td>100.194996</td>\n",
       "      <td>0.765069</td>\n",
       "    </tr>\n",
       "    <tr>\n",
       "      <th>38</th>\n",
       "      <td>100.236921</td>\n",
       "      <td>100.189154</td>\n",
       "      <td>0.941533</td>\n",
       "    </tr>\n",
       "    <tr>\n",
       "      <th>39</th>\n",
       "      <td>100.193202</td>\n",
       "      <td>100.206911</td>\n",
       "      <td>0.982980</td>\n",
       "    </tr>\n",
       "    <tr>\n",
       "      <th>40</th>\n",
       "      <td>100.149011</td>\n",
       "      <td>100.228779</td>\n",
       "      <td>0.900002</td>\n",
       "    </tr>\n",
       "    <tr>\n",
       "      <th>41</th>\n",
       "      <td>100.097680</td>\n",
       "      <td>100.169475</td>\n",
       "      <td>0.908880</td>\n",
       "    </tr>\n",
       "    <tr>\n",
       "      <th>42</th>\n",
       "      <td>100.028086</td>\n",
       "      <td>100.258937</td>\n",
       "      <td>0.709867</td>\n",
       "    </tr>\n",
       "    <tr>\n",
       "      <th>43</th>\n",
       "      <td>99.961619</td>\n",
       "      <td>100.199369</td>\n",
       "      <td>0.698139</td>\n",
       "    </tr>\n",
       "    <tr>\n",
       "      <th>44</th>\n",
       "      <td>100.066701</td>\n",
       "      <td>100.217664</td>\n",
       "      <td>0.803202</td>\n",
       "    </tr>\n",
       "    <tr>\n",
       "      <th>45</th>\n",
       "      <td>100.003899</td>\n",
       "      <td>100.226549</td>\n",
       "      <td>0.710109</td>\n",
       "    </tr>\n",
       "    <tr>\n",
       "      <th>46</th>\n",
       "      <td>100.090272</td>\n",
       "      <td>100.100171</td>\n",
       "      <td>0.986661</td>\n",
       "    </tr>\n",
       "    <tr>\n",
       "      <th>47</th>\n",
       "      <td>100.106829</td>\n",
       "      <td>100.116929</td>\n",
       "      <td>0.986252</td>\n",
       "    </tr>\n",
       "    <tr>\n",
       "      <th>48</th>\n",
       "      <td>100.089656</td>\n",
       "      <td>100.063693</td>\n",
       "      <td>0.964306</td>\n",
       "    </tr>\n",
       "    <tr>\n",
       "      <th>49</th>\n",
       "      <td>100.134212</td>\n",
       "      <td>100.257601</td>\n",
       "      <td>0.829937</td>\n",
       "    </tr>\n",
       "    <tr>\n",
       "      <th>50</th>\n",
       "      <td>100.143181</td>\n",
       "      <td>100.363896</td>\n",
       "      <td>0.697973</td>\n",
       "    </tr>\n",
       "  </tbody>\n",
       "</table>\n",
       "</div>"
      ],
      "text/plain": [
       "        mean_A      mean_B   p-value\n",
       "1   106.723666   99.258164  0.052016\n",
       "2   104.528130   98.667967  0.034519\n",
       "3   103.074197   99.787710  0.150111\n",
       "4   103.579616   99.716655  0.054145\n",
       "5   102.400881  100.235206  0.228111\n",
       "6   102.357702  100.306418  0.216552\n",
       "7   101.790779  100.401334  0.365502\n",
       "8   101.774990  100.677035  0.443708\n",
       "9   101.232412  100.594962  0.636377\n",
       "10  101.486284  100.688098  0.527862\n",
       "11  101.433507  100.705225  0.544061\n",
       "12  101.071595  101.107225  0.975227\n",
       "13  100.913294  100.669687  0.824985\n",
       "14  100.994387  100.872659  0.908777\n",
       "15  100.794184  100.776263  0.986044\n",
       "16  100.733224  100.569170  0.869213\n",
       "17  100.463947  100.405590  0.951762\n",
       "18  100.029496  100.452449  0.652179\n",
       "19  100.157049  100.189733  0.971525\n",
       "20  100.419238   99.870204  0.538545\n",
       "21  100.357666  100.032890  0.709813\n",
       "22  100.328843  100.228217  0.906298\n",
       "23  100.411315  100.324391  0.917148\n",
       "24  100.232648  100.421787  0.816955\n",
       "25  100.257191  100.380442  0.877733\n",
       "26  100.253894  100.302255  0.950854\n",
       "27  100.279054  100.245633  0.965364\n",
       "28  100.261269  100.350241  0.906200\n",
       "29  100.150316  100.329852  0.808706\n",
       "30  100.206010  100.400735  0.788911\n",
       "31  100.209784  100.331495  0.864899\n",
       "32  100.263126  100.345525  0.907160\n",
       "33  100.327636  100.329497  0.997870\n",
       "34  100.171785  100.336811  0.810088\n",
       "35  100.249595  100.296601  0.944668\n",
       "36  100.280199  100.381519  0.879437\n",
       "37  100.391952  100.194996  0.765069\n",
       "38  100.236921  100.189154  0.941533\n",
       "39  100.193202  100.206911  0.982980\n",
       "40  100.149011  100.228779  0.900002\n",
       "41  100.097680  100.169475  0.908880\n",
       "42  100.028086  100.258937  0.709867\n",
       "43   99.961619  100.199369  0.698139\n",
       "44  100.066701  100.217664  0.803202\n",
       "45  100.003899  100.226549  0.710109\n",
       "46  100.090272  100.100171  0.986661\n",
       "47  100.106829  100.116929  0.986252\n",
       "48  100.089656  100.063693  0.964306\n",
       "49  100.134212  100.257601  0.829937\n",
       "50  100.143181  100.363896  0.697973"
      ]
     },
     "execution_count": 431,
     "metadata": {},
     "output_type": "execute_result"
    }
   ],
   "source": [
    "df_1 = pd.DataFrame()\n",
    "df_1['mean_A'] = np.zeros(50)\n",
    "df_1['mean_B'] = np.zeros(50)\n",
    "df_1['p-value'] = np.zeros(50)\n",
    "\n",
    "A = np.array([])\n",
    "B = np.array([])\n",
    "for i in range(50):\n",
    "    #print(a)\n",
    "    #print(b)\n",
    "    a = np.random.normal(100, 40, 200)\n",
    "    b = np.random.normal(100, 40, 200)\n",
    "    A = np.append(A, a)\n",
    "    B = np.append(B, b)\n",
    "    #print(A)\n",
    "    df_1['mean_A'][i] = A.mean()\n",
    "    df_1['mean_B'][i] = B.mean()\n",
    "    df_1['p-value'][i] = sts.ttest_ind(A, B)[1]\n",
    "    #print(a.mean(), b.mean(), sts.ttest_ind(a, b)[1])\n",
    "    \n",
    "df_1.index = np.arange(1, 51)\n",
    "df_1"
   ]
  },
  {
   "cell_type": "code",
   "execution_count": 432,
   "id": "c0028b48",
   "metadata": {},
   "outputs": [
    {
     "data": {
      "image/png": "[encoded data removed]",
      "text/plain": [
       "<Figure size 576x288 with 1 Axes>"
      ]
     },
     "metadata": {},
     "output_type": "display_data"
    }
   ],
   "source": [
    "plt.plot(df_1.index, df_1.mean_A, label = 'mean_A')\n",
    "plt.plot(df_1.index, df_1.mean_B, label = 'mean_B')\n",
    "plt.axvline(x=11, color = 'green', linestyle='dashed')\n",
    "plt.xlabel(\"Номер дня\")\n",
    "plt.ylabel('Кумулятивное среднее')\n",
    "plt.title(\"График зависимости среднего по группам от количества дней\")\n",
    "plt.legend()\n",
    "plt.show()"
   ]
  },
  {
   "cell_type": "code",
   "execution_count": 433,
   "id": "44ea8220",
   "metadata": {},
   "outputs": [
    {
     "data": {
      "image/png": "[encoded data removed]",
      "text/plain": [
       "<Figure size 576x288 with 1 Axes>"
      ]
     },
     "metadata": {},
     "output_type": "display_data"
    }
   ],
   "source": [
    "plt.plot(df_1.index, df_1['p-value'], label='p-value')\n",
    "plt.axvline(x=11, color = 'green', linestyle='dashed')\n",
    "plt.axhline(y=0.5, color='r', linestyle='dashed', label='alpha')\n",
    "plt.xlabel(\"Номер дня\")\n",
    "plt.ylabel('Кумулятивное p-value')\n",
    "plt.title(\"График зависимости p-value от количества дней (кол-ва наблюдений)\")\n",
    "plt.legend()\n",
    "plt.show()"
   ]
  },
  {
   "cell_type": "markdown",
   "id": "abd448ea",
   "metadata": {},
   "source": [
    "Выборки из одного и того же распределения, но p-value ниже уровня значимости до 9 примерно дня, а следовательно, нулевая гипотеза о равенстве МО на 5% уровне значимости отвергается при данном количестве наблюдений, поэтму данный А\\Б-тест необходимо делать дольше. То есть чем больше наблюдений, тем более достоверный результат."
   ]
  },
  {
   "cell_type": "markdown",
   "id": "9a7ef838",
   "metadata": {},
   "source": [
    "2. Ну и напоследок, напишите функцию, которая генерирует p-value на последний день A/A теста. А затем запустите эту функцию $1000$ раз, собрав $1000$ значений p-value. Постройте гистограмму их распределения. Что вы видите? \n",
    "\n",
    "__Подсказка:__ Для такой функции достаточно создать выборку один раз, изменив ее размер."
   ]
  },
  {
   "cell_type": "code",
   "execution_count": null,
   "id": "9bdde3a0",
   "metadata": {},
   "outputs": [],
   "source": []
  }
 ],
 "metadata": {
  "kernelspec": {
   "display_name": "Python 3 (ipykernel)",
   "language": "python",
   "name": "python3"
  },
  "language_info": {
   "codemirror_mode": {
    "name": "ipython",
    "version": 3
   },
   "file_extension": ".py",
   "mimetype": "text/x-python",
   "name": "python",
   "nbconvert_exporter": "python",
   "pygments_lexer": "ipython3",
   "version": "3.9.7"
  }
 },
 "nbformat": 4,
 "nbformat_minor": 5
}
